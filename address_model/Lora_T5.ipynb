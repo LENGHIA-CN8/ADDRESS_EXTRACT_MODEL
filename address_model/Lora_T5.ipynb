{
 "cells": [
  {
   "cell_type": "code",
   "execution_count": 1,
   "id": "fc326d2c-d823-4140-9e75-5ddbf5425459",
   "metadata": {
    "tags": []
   },
   "outputs": [],
   "source": [
    "# !pip install --quiet pytorch_lightning\n",
    "# !pip install --quiet transformers"
   ]
  },
  {
   "cell_type": "code",
   "execution_count": 2,
   "id": "7058c01a-823d-4583-97c8-4571d7832018",
   "metadata": {},
   "outputs": [],
   "source": [
    "import os\n",
    "os.environ[\"CUDA_DEVICE_ORDER\"]=\"PCI_BUS_ID\"\n",
    "os.environ[\"CUDA_VISIBLE_DEVICES\"]=\"0\"\n",
    "# os.environ['CUDA_LAUNCH_BLOCKING'] = '0'\n",
    "# os.environ['TORCH_USE_CUDA_DSA'] = '0'"
   ]
  },
  {
   "cell_type": "code",
   "execution_count": 3,
   "id": "a82c511e-b764-474d-8265-e1985b5a4a6b",
   "metadata": {
    "tags": []
   },
   "outputs": [],
   "source": [
    "import pandas as pd\n",
    "import numpy as np\n",
    "import torch\n",
    "from pathlib import Path\n",
    "from sklearn.model_selection import train_test_split\n",
    "import textwrap\n",
    "import pytorch_lightning as pl\n",
    "from pytorch_lightning.callbacks import ModelCheckpoint\n",
    "from pytorch_lightning import Trainer\n",
    "\n",
    "from transformers import(\n",
    "    AdamW,\n",
    "    AutoModelForCausalLM,\n",
    "    AutoModelForSeq2SeqLM,\n",
    "    AutoTokenizer,\n",
    "    get_linear_schedule_with_warmup,\n",
    "    DataCollatorForSeq2Seq,\n",
    "    Seq2SeqTrainingArguments,\n",
    "    Seq2SeqTrainer\n",
    ")"
   ]
  },
  {
   "cell_type": "code",
   "execution_count": 4,
   "id": "7ee13b38-d892-4924-9c29-5cf47a331c99",
   "metadata": {
    "tags": []
   },
   "outputs": [],
   "source": [
    "from datasets import Dataset, load_metric"
   ]
  },
  {
   "cell_type": "code",
   "execution_count": 5,
   "id": "d78fdfac-ab48-405d-8d8d-8180deef6314",
   "metadata": {},
   "outputs": [
    {
     "data": {
      "text/plain": [
       "0"
      ]
     },
     "execution_count": 5,
     "metadata": {},
     "output_type": "execute_result"
    }
   ],
   "source": [
    "torch.cuda.current_device()"
   ]
  },
  {
   "cell_type": "code",
   "execution_count": 6,
   "id": "0948d8f6-a36e-42a7-92a0-5db1001b048a",
   "metadata": {
    "tags": []
   },
   "outputs": [],
   "source": [
    "def get_device_and_set_seed(seed):\n",
    "    \"\"\" Set all seeds to make results reproducible \"\"\"\n",
    "    torch.manual_seed(seed)\n",
    "    torch.cuda.manual_seed_all(seed)\n",
    "    torch.backends.cudnn.deterministic = True\n",
    "    np.random.seed(seed)\n",
    "    use_cuda = torch.cuda.is_available()\n",
    "    device = torch.device(\"cuda\" if use_cuda else \"cpu\")\n",
    "    return device\n",
    "    \n",
    "SEED = 123\n",
    "device = get_device_and_set_seed(SEED)"
   ]
  },
  {
   "cell_type": "code",
   "execution_count": 7,
   "id": "ec1cd4bd-9a42-4b13-9cac-3d3a13513cd6",
   "metadata": {},
   "outputs": [
    {
     "data": {
      "text/plain": [
       "device(type='cuda')"
      ]
     },
     "execution_count": 7,
     "metadata": {},
     "output_type": "execute_result"
    }
   ],
   "source": [
    "device"
   ]
  },
  {
   "cell_type": "code",
   "execution_count": 12,
   "id": "b08bd429-b4d4-4051-9981-f4229782c766",
   "metadata": {
    "tags": []
   },
   "outputs": [],
   "source": [
    "model = AutoModelForSeq2SeqLM.from_pretrained(\"google/mt5-base\", load_in_8bit=True, device_map=\"auto\")\n",
    "# model.to(device)\n",
    "next(model.parameters()).is_cuda"
   ]
  },
  {
   "cell_type": "code",
   "execution_count": 7,
   "id": "0061dc6f-b779-439c-98eb-85be7d23107a",
   "metadata": {},
   "outputs": [
    {
     "data": {
      "text/plain": [
       "True"
      ]
     },
     "execution_count": 7,
     "metadata": {},
     "output_type": "execute_result"
    }
   ],
   "source": [
    "model = AutoModelForCausalLM.from_pretrained(\"vilm/vinallama-2.7b\", load_in_4bit=True, device_map=\"auto\")\n",
    "# model.to(device)\n",
    "next(model.parameters()).is_cuda"
   ]
  },
  {
   "cell_type": "code",
   "execution_count": 8,
   "id": "1c5480c2-96da-49f4-aa25-78e7dc3322a7",
   "metadata": {
    "tags": []
   },
   "outputs": [],
   "source": [
    "tokenizer = AutoTokenizer.from_pretrained(\"vilm/vinallama-2.7b\", legacy=False)  "
   ]
  },
  {
   "cell_type": "code",
   "execution_count": 9,
   "id": "8f66f0df-fb15-46ac-ad1c-9262f223f96a",
   "metadata": {
    "tags": []
   },
   "outputs": [],
   "source": [
    "labels = tokenizer(\n",
    "        'tôi thích bạn', max_length=256, truncation=True, padding=True\n",
    "    )"
   ]
  },
  {
   "cell_type": "code",
   "execution_count": 10,
   "id": "47a84b1c-b45e-4639-8d18-5c783c58408c",
   "metadata": {},
   "outputs": [
    {
     "data": {
      "text/plain": [
       "['<s>', '▁tôi', '▁thích', '▁bạn']"
      ]
     },
     "execution_count": 10,
     "metadata": {},
     "output_type": "execute_result"
    }
   ],
   "source": [
    "tokenizer.convert_ids_to_tokens(labels['input_ids'])"
   ]
  },
  {
   "cell_type": "code",
   "execution_count": 11,
   "id": "4996f128-8f8b-4978-b5b1-a92e77a32823",
   "metadata": {},
   "outputs": [
    {
     "data": {
      "text/plain": [
       "LlamaTokenizerFast(name_or_path='vilm/vinallama-2.7b', vocab_size=46303, model_max_length=1000000000000000019884624838656, is_fast=True, padding_side='left', truncation_side='right', special_tokens={'bos_token': '<s>', 'eos_token': '</s>', 'unk_token': '<unk>', 'pad_token': '<pad>'}, clean_up_tokenization_spaces=False),  added_tokens_decoder={\n",
       "\t0: AddedToken(\"<unk>\", rstrip=False, lstrip=False, single_word=False, normalized=False, special=True),\n",
       "\t1: AddedToken(\"<s>\", rstrip=False, lstrip=False, single_word=False, normalized=False, special=True),\n",
       "\t2: AddedToken(\"</s>\", rstrip=False, lstrip=False, single_word=False, normalized=False, special=True),\n",
       "\t46303: AddedToken(\"<pad>\", rstrip=False, lstrip=False, single_word=False, normalized=False, special=True),\n",
       "}"
      ]
     },
     "execution_count": 11,
     "metadata": {},
     "output_type": "execute_result"
    }
   ],
   "source": [
    "tokenizer"
   ]
  },
  {
   "cell_type": "code",
   "execution_count": 12,
   "id": "22780b21-ffdc-42ef-83a4-e00a30c05323",
   "metadata": {
    "tags": []
   },
   "outputs": [
    {
     "data": {
      "text/plain": [
       "{'input_ids': [1, 32217, 32802, 32362], 'attention_mask': [1, 1, 1, 1]}"
      ]
     },
     "execution_count": 12,
     "metadata": {},
     "output_type": "execute_result"
    }
   ],
   "source": [
    "labels"
   ]
  },
  {
   "cell_type": "markdown",
   "id": "1f31dcfd-d816-4484-a673-cac97e852e76",
   "metadata": {},
   "source": [
    "## Prepare Data"
   ]
  },
  {
   "cell_type": "code",
   "execution_count": 25,
   "id": "492c52cf-2cdb-4dec-86db-df658dbb653c",
   "metadata": {
    "tags": []
   },
   "outputs": [],
   "source": [
    "train_path = './data/address_data_1.csv'"
   ]
  },
  {
   "cell_type": "code",
   "execution_count": 26,
   "id": "c03f8e78-ede8-421d-bf08-53b1e5f5b1ca",
   "metadata": {
    "tags": []
   },
   "outputs": [
    {
     "data": {
      "text/html": [
       "<div>\n",
       "<style scoped>\n",
       "    .dataframe tbody tr th:only-of-type {\n",
       "        vertical-align: middle;\n",
       "    }\n",
       "\n",
       "    .dataframe tbody tr th {\n",
       "        vertical-align: top;\n",
       "    }\n",
       "\n",
       "    .dataframe thead th {\n",
       "        text-align: right;\n",
       "    }\n",
       "</style>\n",
       "<table border=\"1\" class=\"dataframe\">\n",
       "  <thead>\n",
       "    <tr style=\"text-align: right;\">\n",
       "      <th></th>\n",
       "      <th>input_address</th>\n",
       "      <th>filter_address</th>\n",
       "      <th>mistake_address</th>\n",
       "    </tr>\n",
       "  </thead>\n",
       "  <tbody>\n",
       "    <tr>\n",
       "      <th>0</th>\n",
       "      <td>Thửa đất số 11, Tờ bản đồ số 39, Ấp Hoàng Việt...</td>\n",
       "      <td>Xã Tân Phước, Huyện Tân Hồng, Tỉnh Đồng Tháp</td>\n",
       "      <td>Thua dat so 11 To ban do so 39 Ap Hoang Viet X...</td>\n",
       "    </tr>\n",
       "    <tr>\n",
       "      <th>1</th>\n",
       "      <td>Huyện Tân Hồng, Tỉnh Đồng Tháp</td>\n",
       "      <td>Huyện Tân Hồng, Tỉnh Đồng Tháp</td>\n",
       "      <td>uện n Hồng, ỉnh Đồng Tháp</td>\n",
       "    </tr>\n",
       "    <tr>\n",
       "      <th>2</th>\n",
       "      <td>Số 27, Đường Thiên Hộ Dương, Khóm 3, Phường An...</td>\n",
       "      <td>Đường Thiên Hộ Dương, Phường An Thạnh, Thành p...</td>\n",
       "      <td>So 27 Duong Thien Ho Duong Khom 3 Phuong An Th...</td>\n",
       "    </tr>\n",
       "    <tr>\n",
       "      <th>3</th>\n",
       "      <td>Phường An Thạnh, Thành phố Hồng Ngự, Tỉnh Đồng...</td>\n",
       "      <td>Phường An Thạnh, Thành phố Hồng Ngự, Tỉnh Đồng...</td>\n",
       "      <td>hường An Thạn Tành phố Hồg Ngự Tỉh Đồng Tháp</td>\n",
       "    </tr>\n",
       "    <tr>\n",
       "      <th>4</th>\n",
       "      <td>Tổ 20, Khóm An Lợi, Phường An Bình A, Thành ph...</td>\n",
       "      <td>Phường An Bình A, Thành phố Hồng Ngự, Tỉnh Đồn...</td>\n",
       "      <td>Tổ 20, Khóm An Loi, Phường An Bình A, Thành ph...</td>\n",
       "    </tr>\n",
       "  </tbody>\n",
       "</table>\n",
       "</div>"
      ],
      "text/plain": [
       "                                       input_address  \\\n",
       "0  Thửa đất số 11, Tờ bản đồ số 39, Ấp Hoàng Việt...   \n",
       "1                     Huyện Tân Hồng, Tỉnh Đồng Tháp   \n",
       "2  Số 27, Đường Thiên Hộ Dương, Khóm 3, Phường An...   \n",
       "3  Phường An Thạnh, Thành phố Hồng Ngự, Tỉnh Đồng...   \n",
       "4  Tổ 20, Khóm An Lợi, Phường An Bình A, Thành ph...   \n",
       "\n",
       "                                      filter_address  \\\n",
       "0       Xã Tân Phước, Huyện Tân Hồng, Tỉnh Đồng Tháp   \n",
       "1                     Huyện Tân Hồng, Tỉnh Đồng Tháp   \n",
       "2  Đường Thiên Hộ Dương, Phường An Thạnh, Thành p...   \n",
       "3  Phường An Thạnh, Thành phố Hồng Ngự, Tỉnh Đồng...   \n",
       "4  Phường An Bình A, Thành phố Hồng Ngự, Tỉnh Đồn...   \n",
       "\n",
       "                                     mistake_address  \n",
       "0  Thua dat so 11 To ban do so 39 Ap Hoang Viet X...  \n",
       "1                          uện n Hồng, ỉnh Đồng Tháp  \n",
       "2  So 27 Duong Thien Ho Duong Khom 3 Phuong An Th...  \n",
       "3       hường An Thạn Tành phố Hồg Ngự Tỉh Đồng Tháp  \n",
       "4  Tổ 20, Khóm An Loi, Phường An Bình A, Thành ph...  "
      ]
     },
     "execution_count": 26,
     "metadata": {},
     "output_type": "execute_result"
    }
   ],
   "source": [
    "data_df = pd.read_csv(train_path)\n",
    "data_df.head()"
   ]
  },
  {
   "cell_type": "code",
   "execution_count": 10,
   "id": "958f8824-adca-48bd-ab79-c1af9f86e5a3",
   "metadata": {},
   "outputs": [
    {
     "data": {
      "text/html": [
       "<div>\n",
       "<style scoped>\n",
       "    .dataframe tbody tr th:only-of-type {\n",
       "        vertical-align: middle;\n",
       "    }\n",
       "\n",
       "    .dataframe tbody tr th {\n",
       "        vertical-align: top;\n",
       "    }\n",
       "\n",
       "    .dataframe thead th {\n",
       "        text-align: right;\n",
       "    }\n",
       "</style>\n",
       "<table border=\"1\" class=\"dataframe\">\n",
       "  <thead>\n",
       "    <tr style=\"text-align: right;\">\n",
       "      <th></th>\n",
       "      <th>input_address</th>\n",
       "      <th>filter_address</th>\n",
       "      <th>mistake_address</th>\n",
       "    </tr>\n",
       "  </thead>\n",
       "  <tbody>\n",
       "    <tr>\n",
       "      <th>0</th>\n",
       "      <td>Thửa đất số 11, Tờ bản đồ số 39, Ấp Hoàng Việt...</td>\n",
       "      <td>Xã Tân Phước, Huyện Tân Hồng, Tỉnh Đồng Tháp</td>\n",
       "      <td>Thua dat so 11 To ban do so 39 Ap Hoang Viet X...</td>\n",
       "    </tr>\n",
       "    <tr>\n",
       "      <th>1</th>\n",
       "      <td>Huyện Tân Hồng, Tỉnh Đồng Tháp</td>\n",
       "      <td>Huyện Tân Hồng, Tỉnh Đồng Tháp</td>\n",
       "      <td>uện n Hồng, ỉnh Đồng Tháp</td>\n",
       "    </tr>\n",
       "    <tr>\n",
       "      <th>2</th>\n",
       "      <td>Số 27, Đường Thiên Hộ Dương, Khóm 3, Phường An...</td>\n",
       "      <td>Đường Thiên Hộ Dương, Phường An Thạnh, Thành p...</td>\n",
       "      <td>So 27 Duong Thien Ho Duong Khom 3 Phuong An Th...</td>\n",
       "    </tr>\n",
       "    <tr>\n",
       "      <th>3</th>\n",
       "      <td>Phường An Thạnh, Thành phố Hồng Ngự, Tỉnh Đồng...</td>\n",
       "      <td>Phường An Thạnh, Thành phố Hồng Ngự, Tỉnh Đồng...</td>\n",
       "      <td>hường An Thạn Tành phố Hồg Ngự Tỉh Đồng Tháp</td>\n",
       "    </tr>\n",
       "    <tr>\n",
       "      <th>4</th>\n",
       "      <td>Tổ 20, Khóm An Lợi, Phường An Bình A, Thành ph...</td>\n",
       "      <td>Phường An Bình A, Thành phố Hồng Ngự, Tỉnh Đồn...</td>\n",
       "      <td>Tổ 20, Khóm An Loi, Phường An Bình A, Thành ph...</td>\n",
       "    </tr>\n",
       "    <tr>\n",
       "      <th>...</th>\n",
       "      <td>...</td>\n",
       "      <td>...</td>\n",
       "      <td>...</td>\n",
       "    </tr>\n",
       "    <tr>\n",
       "      <th>499995</th>\n",
       "      <td>5D Tầng Trệt, Chung cư CT3, Khu đô thị VCN Phư...</td>\n",
       "      <td>Phường Phước Hải, Thành phố Nha Trang,  Khánh Hòa</td>\n",
       "      <td>5D Tang Tret Chung cu CT3 Khu do thi VCN Phuoc...</td>\n",
       "    </tr>\n",
       "    <tr>\n",
       "      <th>499996</th>\n",
       "      <td>50 Đại lộ Lê Lợi, Phường Tân Sơn, Thành phố Th...</td>\n",
       "      <td>Đại lộ Lê Lợi, Phường Tân Sơn, Thành phố Thanh...</td>\n",
       "      <td>50 Dai lo Le Loi Phuong Tan Son Thanh pho Than...</td>\n",
       "    </tr>\n",
       "    <tr>\n",
       "      <th>499997</th>\n",
       "      <td>Phường Tân Sơn, Thành phố Thanh Hóa, Thanh Hóa</td>\n",
       "      <td>Phường Tân Sơn, Thành phố Thanh Hóa, Thanh Hóa</td>\n",
       "      <td>phường tân sơn thành phố thanh hóa thanh hóa</td>\n",
       "    </tr>\n",
       "    <tr>\n",
       "      <th>499998</th>\n",
       "      <td>206 Huỳnh Tấn Phát, Phường Khuê Trung, Quận Cẩ...</td>\n",
       "      <td>Phường Khuê Trung, Quận Cẩm Lệ,  Đà Nẵng</td>\n",
       "      <td>2 06 h uỳ nh tấn phát, phường khuê trung, quận...</td>\n",
       "    </tr>\n",
       "    <tr>\n",
       "      <th>499999</th>\n",
       "      <td>Thôn Tứ Thôn, Xã Nga Vịnh, Huyện Nga Sơn, Than...</td>\n",
       "      <td>Xã Nga Vịnh, Huyện Nga Sơn,  Thanh Hóa</td>\n",
       "      <td>Thôn Tứ Thon Xa Nga Vịnh Huyện Nga Son Thanh Hoá</td>\n",
       "    </tr>\n",
       "  </tbody>\n",
       "</table>\n",
       "<p>500000 rows × 3 columns</p>\n",
       "</div>"
      ],
      "text/plain": [
       "                                            input_address  \\\n",
       "0       Thửa đất số 11, Tờ bản đồ số 39, Ấp Hoàng Việt...   \n",
       "1                          Huyện Tân Hồng, Tỉnh Đồng Tháp   \n",
       "2       Số 27, Đường Thiên Hộ Dương, Khóm 3, Phường An...   \n",
       "3       Phường An Thạnh, Thành phố Hồng Ngự, Tỉnh Đồng...   \n",
       "4       Tổ 20, Khóm An Lợi, Phường An Bình A, Thành ph...   \n",
       "...                                                   ...   \n",
       "499995  5D Tầng Trệt, Chung cư CT3, Khu đô thị VCN Phư...   \n",
       "499996  50 Đại lộ Lê Lợi, Phường Tân Sơn, Thành phố Th...   \n",
       "499997     Phường Tân Sơn, Thành phố Thanh Hóa, Thanh Hóa   \n",
       "499998  206 Huỳnh Tấn Phát, Phường Khuê Trung, Quận Cẩ...   \n",
       "499999  Thôn Tứ Thôn, Xã Nga Vịnh, Huyện Nga Sơn, Than...   \n",
       "\n",
       "                                           filter_address  \\\n",
       "0            Xã Tân Phước, Huyện Tân Hồng, Tỉnh Đồng Tháp   \n",
       "1                          Huyện Tân Hồng, Tỉnh Đồng Tháp   \n",
       "2       Đường Thiên Hộ Dương, Phường An Thạnh, Thành p...   \n",
       "3       Phường An Thạnh, Thành phố Hồng Ngự, Tỉnh Đồng...   \n",
       "4       Phường An Bình A, Thành phố Hồng Ngự, Tỉnh Đồn...   \n",
       "...                                                   ...   \n",
       "499995  Phường Phước Hải, Thành phố Nha Trang,  Khánh Hòa   \n",
       "499996  Đại lộ Lê Lợi, Phường Tân Sơn, Thành phố Thanh...   \n",
       "499997     Phường Tân Sơn, Thành phố Thanh Hóa, Thanh Hóa   \n",
       "499998           Phường Khuê Trung, Quận Cẩm Lệ,  Đà Nẵng   \n",
       "499999             Xã Nga Vịnh, Huyện Nga Sơn,  Thanh Hóa   \n",
       "\n",
       "                                          mistake_address  \n",
       "0       Thua dat so 11 To ban do so 39 Ap Hoang Viet X...  \n",
       "1                               uện n Hồng, ỉnh Đồng Tháp  \n",
       "2       So 27 Duong Thien Ho Duong Khom 3 Phuong An Th...  \n",
       "3            hường An Thạn Tành phố Hồg Ngự Tỉh Đồng Tháp  \n",
       "4       Tổ 20, Khóm An Loi, Phường An Bình A, Thành ph...  \n",
       "...                                                   ...  \n",
       "499995  5D Tang Tret Chung cu CT3 Khu do thi VCN Phuoc...  \n",
       "499996  50 Dai lo Le Loi Phuong Tan Son Thanh pho Than...  \n",
       "499997       phường tân sơn thành phố thanh hóa thanh hóa  \n",
       "499998  2 06 h uỳ nh tấn phát, phường khuê trung, quận...  \n",
       "499999   Thôn Tứ Thon Xa Nga Vịnh Huyện Nga Son Thanh Hoá  \n",
       "\n",
       "[500000 rows x 3 columns]"
      ]
     },
     "execution_count": 10,
     "metadata": {},
     "output_type": "execute_result"
    }
   ],
   "source": [
    "data_df = data_df[:500000]\n",
    "data_df"
   ]
  },
  {
   "cell_type": "code",
   "execution_count": 27,
   "id": "1b9d858a-db06-4ffc-9840-51b91ba49d54",
   "metadata": {},
   "outputs": [],
   "source": [
    "data_df = data_df.dropna()"
   ]
  },
  {
   "cell_type": "code",
   "execution_count": 28,
   "id": "b035ec2f-7c22-498e-8df3-42a5cd10795c",
   "metadata": {
    "tags": []
   },
   "outputs": [],
   "source": [
    "train_df, test_df = train_test_split(data_df, test_size=0.1, random_state=SEED)"
   ]
  },
  {
   "cell_type": "code",
   "execution_count": 29,
   "id": "349d91b5-35e1-40e6-bf96-fe04bb0926c4",
   "metadata": {},
   "outputs": [],
   "source": [
    "train_df, val_df = train_test_split(train_df, test_size=0.1, random_state=SEED)"
   ]
  },
  {
   "cell_type": "code",
   "execution_count": 30,
   "id": "113f280e-8d11-4338-b83e-966899929e7d",
   "metadata": {},
   "outputs": [
    {
     "data": {
      "text/html": [
       "<div>\n",
       "<style scoped>\n",
       "    .dataframe tbody tr th:only-of-type {\n",
       "        vertical-align: middle;\n",
       "    }\n",
       "\n",
       "    .dataframe tbody tr th {\n",
       "        vertical-align: top;\n",
       "    }\n",
       "\n",
       "    .dataframe thead th {\n",
       "        text-align: right;\n",
       "    }\n",
       "</style>\n",
       "<table border=\"1\" class=\"dataframe\">\n",
       "  <thead>\n",
       "    <tr style=\"text-align: right;\">\n",
       "      <th></th>\n",
       "      <th>input_address</th>\n",
       "      <th>filter_address</th>\n",
       "      <th>mistake_address</th>\n",
       "    </tr>\n",
       "  </thead>\n",
       "  <tbody>\n",
       "    <tr>\n",
       "      <th>0</th>\n",
       "      <td>Thành phố Hà Nội</td>\n",
       "      <td>Thành phố Hà Nội</td>\n",
       "      <td>thành phố hà nội</td>\n",
       "    </tr>\n",
       "    <tr>\n",
       "      <th>1</th>\n",
       "      <td>Quận Ba Đình, Thành phố Hà Nội</td>\n",
       "      <td>Quận Ba Đình, Thành phố Hà Nội</td>\n",
       "      <td>Quận BaĐn, Tành phốHà Nội</td>\n",
       "    </tr>\n",
       "    <tr>\n",
       "      <th>2</th>\n",
       "      <td>Phường Phúc Xá, Quận Ba Đình, Thành phố Hà Nội</td>\n",
       "      <td>Phường Phúc Xá, Quận Ba Đình, Thành phố Hà Nội</td>\n",
       "      <td>Phường Phúc Xá, Quận Ba Dinh, Thành pho Ha Nội</td>\n",
       "    </tr>\n",
       "    <tr>\n",
       "      <th>3</th>\n",
       "      <td>Phường Trúc Bạch, Quận Ba Đình, Thành phố Hà Nội</td>\n",
       "      <td>Phường Trúc Bạch, Quận Ba Đình, Thành phố Hà Nội</td>\n",
       "      <td>hườg Trúc Bạch, Quận a Đình, Thàh phố Hà ội</td>\n",
       "    </tr>\n",
       "    <tr>\n",
       "      <th>4</th>\n",
       "      <td>Phường Vĩnh Phúc, Quận Ba Đình, Thành phố Hà Nội</td>\n",
       "      <td>Phường Vĩnh Phúc, Quận Ba Đình, Thành phố Hà Nội</td>\n",
       "      <td>hường Vĩnh Phúc Qun Ba Đìh Thành phố H ội</td>\n",
       "    </tr>\n",
       "    <tr>\n",
       "      <th>...</th>\n",
       "      <td>...</td>\n",
       "      <td>...</td>\n",
       "      <td>...</td>\n",
       "    </tr>\n",
       "    <tr>\n",
       "      <th>11379</th>\n",
       "      <td>Xã Viên An Đông, Huyện Ngọc Hiển, Tỉnh Cà Mau</td>\n",
       "      <td>Xã Viên An Đông, Huyện Ngọc Hiển, Tỉnh Cà Mau</td>\n",
       "      <td>Xã Viên An Đông, Huyện Ngoc Hiển, Tinh Cà Mau</td>\n",
       "    </tr>\n",
       "    <tr>\n",
       "      <th>11380</th>\n",
       "      <td>Xã Viên An, Huyện Ngọc Hiển, Tỉnh Cà Mau</td>\n",
       "      <td>Xã Viên An, Huyện Ngọc Hiển, Tỉnh Cà Mau</td>\n",
       "      <td>X iên An, Huyện Ngọ iển,Tỉnh Cà Mau</td>\n",
       "    </tr>\n",
       "    <tr>\n",
       "      <th>11381</th>\n",
       "      <td>Thị trấn Rạch Gốc, Huyện Ngọc Hiển, Tỉnh Cà Mau</td>\n",
       "      <td>Thị trấn Rạch Gốc, Huyện Ngọc Hiển, Tỉnh Cà Mau</td>\n",
       "      <td>Thị trấn Rạch Gốc Huyện Ngoc Hien Tỉnh Ca Mau</td>\n",
       "    </tr>\n",
       "    <tr>\n",
       "      <th>11382</th>\n",
       "      <td>Xã Tân Ân, Huyện Ngọc Hiển, Tỉnh Cà Mau</td>\n",
       "      <td>Xã Tân Ân, Huyện Ngọc Hiển, Tỉnh Cà Mau</td>\n",
       "      <td>Xã ân n HuyệnNgọ Hiển TỉnhCà Mau</td>\n",
       "    </tr>\n",
       "    <tr>\n",
       "      <th>11383</th>\n",
       "      <td>Xã Đất Mũi, Huyện Ngọc Hiển, Tỉnh Cà Mau</td>\n",
       "      <td>Xã Đất Mũi, Huyện Ngọc Hiển, Tỉnh Cà Mau</td>\n",
       "      <td>Xa Dat Mui Huyen Ngoc Hien Tinh Ca Mau</td>\n",
       "    </tr>\n",
       "  </tbody>\n",
       "</table>\n",
       "<p>11384 rows × 3 columns</p>\n",
       "</div>"
      ],
      "text/plain": [
       "                                          input_address  \\\n",
       "0                                      Thành phố Hà Nội   \n",
       "1                        Quận Ba Đình, Thành phố Hà Nội   \n",
       "2        Phường Phúc Xá, Quận Ba Đình, Thành phố Hà Nội   \n",
       "3      Phường Trúc Bạch, Quận Ba Đình, Thành phố Hà Nội   \n",
       "4      Phường Vĩnh Phúc, Quận Ba Đình, Thành phố Hà Nội   \n",
       "...                                                 ...   \n",
       "11379     Xã Viên An Đông, Huyện Ngọc Hiển, Tỉnh Cà Mau   \n",
       "11380          Xã Viên An, Huyện Ngọc Hiển, Tỉnh Cà Mau   \n",
       "11381   Thị trấn Rạch Gốc, Huyện Ngọc Hiển, Tỉnh Cà Mau   \n",
       "11382           Xã Tân Ân, Huyện Ngọc Hiển, Tỉnh Cà Mau   \n",
       "11383          Xã Đất Mũi, Huyện Ngọc Hiển, Tỉnh Cà Mau   \n",
       "\n",
       "                                         filter_address  \\\n",
       "0                                      Thành phố Hà Nội   \n",
       "1                        Quận Ba Đình, Thành phố Hà Nội   \n",
       "2        Phường Phúc Xá, Quận Ba Đình, Thành phố Hà Nội   \n",
       "3      Phường Trúc Bạch, Quận Ba Đình, Thành phố Hà Nội   \n",
       "4      Phường Vĩnh Phúc, Quận Ba Đình, Thành phố Hà Nội   \n",
       "...                                                 ...   \n",
       "11379     Xã Viên An Đông, Huyện Ngọc Hiển, Tỉnh Cà Mau   \n",
       "11380          Xã Viên An, Huyện Ngọc Hiển, Tỉnh Cà Mau   \n",
       "11381   Thị trấn Rạch Gốc, Huyện Ngọc Hiển, Tỉnh Cà Mau   \n",
       "11382           Xã Tân Ân, Huyện Ngọc Hiển, Tỉnh Cà Mau   \n",
       "11383          Xã Đất Mũi, Huyện Ngọc Hiển, Tỉnh Cà Mau   \n",
       "\n",
       "                                      mistake_address  \n",
       "0                                    thành phố hà nội  \n",
       "1                           Quận BaĐn, Tành phốHà Nội  \n",
       "2      Phường Phúc Xá, Quận Ba Dinh, Thành pho Ha Nội  \n",
       "3         hườg Trúc Bạch, Quận a Đình, Thàh phố Hà ội  \n",
       "4           hường Vĩnh Phúc Qun Ba Đìh Thành phố H ội  \n",
       "...                                               ...  \n",
       "11379   Xã Viên An Đông, Huyện Ngoc Hiển, Tinh Cà Mau  \n",
       "11380             X iên An, Huyện Ngọ iển,Tỉnh Cà Mau  \n",
       "11381   Thị trấn Rạch Gốc Huyện Ngoc Hien Tỉnh Ca Mau  \n",
       "11382                Xã ân n HuyệnNgọ Hiển TỉnhCà Mau  \n",
       "11383          Xa Dat Mui Huyen Ngoc Hien Tinh Ca Mau  \n",
       "\n",
       "[11384 rows x 3 columns]"
      ]
     },
     "execution_count": 30,
     "metadata": {},
     "output_type": "execute_result"
    }
   ],
   "source": [
    "meta_df = pd.read_csv('./data/address_data_meta_1.csv')\n",
    "meta_df"
   ]
  },
  {
   "cell_type": "code",
   "execution_count": 31,
   "id": "1e005e82-eab0-47d2-b84d-a5981144bb66",
   "metadata": {
    "scrolled": true
   },
   "outputs": [
    {
     "data": {
      "text/html": [
       "<div>\n",
       "<style scoped>\n",
       "    .dataframe tbody tr th:only-of-type {\n",
       "        vertical-align: middle;\n",
       "    }\n",
       "\n",
       "    .dataframe tbody tr th {\n",
       "        vertical-align: top;\n",
       "    }\n",
       "\n",
       "    .dataframe thead th {\n",
       "        text-align: right;\n",
       "    }\n",
       "</style>\n",
       "<table border=\"1\" class=\"dataframe\">\n",
       "  <thead>\n",
       "    <tr style=\"text-align: right;\">\n",
       "      <th></th>\n",
       "      <th>input_address</th>\n",
       "      <th>filter_address</th>\n",
       "      <th>mistake_address</th>\n",
       "    </tr>\n",
       "  </thead>\n",
       "  <tbody>\n",
       "    <tr>\n",
       "      <th>0</th>\n",
       "      <td>NO01 - LK 41 khu dịch vụ HT5, KĐT Văn Khê, Phư...</td>\n",
       "      <td>Phường La Khê, Quận Hà Đông, Thành phố Hà Nội</td>\n",
       "      <td>NO01  LK 41 khu dich vu HT5 KDT Van Khe Phuong...</td>\n",
       "    </tr>\n",
       "    <tr>\n",
       "      <th>1</th>\n",
       "      <td>102/7/8 Cống Quỳnh, Phường Phạm Ngũ Lão, Quận ...</td>\n",
       "      <td>Phường Phạm Ngũ Lão, Quận 1, Thành phố Hồ Chí ...</td>\n",
       "      <td>102/7/8 Cống Quỳnh, Phường Pham Ngu Lao, Quận ...</td>\n",
       "    </tr>\n",
       "    <tr>\n",
       "      <th>2</th>\n",
       "      <td>Số 28-30 đường Quang Trung, Khóm Châu Quới 3, ...</td>\n",
       "      <td>đường Quang Trung, Phường Châu Phú B, Thành ph...</td>\n",
       "      <td>Số 2830 duong Quang Trung Khóm Châu Quới 3 Phu...</td>\n",
       "    </tr>\n",
       "    <tr>\n",
       "      <th>3</th>\n",
       "      <td>Thôn Thanh Đặng, Xã Minh Hải, Huyện Văn Lâm, H...</td>\n",
       "      <td>Xã Minh Hải, Huyện Văn Lâm,  Hưng Yên</td>\n",
       "      <td>Thôn Than Đặng, Xã Minh Hi, Huyện Văn Lâm,Hư Yên</td>\n",
       "    </tr>\n",
       "    <tr>\n",
       "      <th>4</th>\n",
       "      <td>Số 198 Bùi Thị Xuân, Phường 1, Thành phố Bảo L...</td>\n",
       "      <td>Phường 1, Thành phố Bảo Lộc, Tỉnh Lâm Đồng</td>\n",
       "      <td>So 198 Bùi Thị Xuan Phường 1 Thành phố Bao Lộc...</td>\n",
       "    </tr>\n",
       "    <tr>\n",
       "      <th>...</th>\n",
       "      <td>...</td>\n",
       "      <td>...</td>\n",
       "      <td>...</td>\n",
       "    </tr>\n",
       "    <tr>\n",
       "      <th>889451</th>\n",
       "      <td>Xã Viên An Đông, Huyện Ngọc Hiển, Tỉnh Cà Mau</td>\n",
       "      <td>Xã Viên An Đông, Huyện Ngọc Hiển, Tỉnh Cà Mau</td>\n",
       "      <td>Xã Viên An Đông, Huyện Ngoc Hiển, Tinh Cà Mau</td>\n",
       "    </tr>\n",
       "    <tr>\n",
       "      <th>889452</th>\n",
       "      <td>Xã Viên An, Huyện Ngọc Hiển, Tỉnh Cà Mau</td>\n",
       "      <td>Xã Viên An, Huyện Ngọc Hiển, Tỉnh Cà Mau</td>\n",
       "      <td>X iên An, Huyện Ngọ iển,Tỉnh Cà Mau</td>\n",
       "    </tr>\n",
       "    <tr>\n",
       "      <th>889453</th>\n",
       "      <td>Thị trấn Rạch Gốc, Huyện Ngọc Hiển, Tỉnh Cà Mau</td>\n",
       "      <td>Thị trấn Rạch Gốc, Huyện Ngọc Hiển, Tỉnh Cà Mau</td>\n",
       "      <td>Thị trấn Rạch Gốc Huyện Ngoc Hien Tỉnh Ca Mau</td>\n",
       "    </tr>\n",
       "    <tr>\n",
       "      <th>889454</th>\n",
       "      <td>Xã Tân Ân, Huyện Ngọc Hiển, Tỉnh Cà Mau</td>\n",
       "      <td>Xã Tân Ân, Huyện Ngọc Hiển, Tỉnh Cà Mau</td>\n",
       "      <td>Xã ân n HuyệnNgọ Hiển TỉnhCà Mau</td>\n",
       "    </tr>\n",
       "    <tr>\n",
       "      <th>889455</th>\n",
       "      <td>Xã Đất Mũi, Huyện Ngọc Hiển, Tỉnh Cà Mau</td>\n",
       "      <td>Xã Đất Mũi, Huyện Ngọc Hiển, Tỉnh Cà Mau</td>\n",
       "      <td>Xa Dat Mui Huyen Ngoc Hien Tinh Ca Mau</td>\n",
       "    </tr>\n",
       "  </tbody>\n",
       "</table>\n",
       "<p>889456 rows × 3 columns</p>\n",
       "</div>"
      ],
      "text/plain": [
       "                                            input_address  \\\n",
       "0       NO01 - LK 41 khu dịch vụ HT5, KĐT Văn Khê, Phư...   \n",
       "1       102/7/8 Cống Quỳnh, Phường Phạm Ngũ Lão, Quận ...   \n",
       "2       Số 28-30 đường Quang Trung, Khóm Châu Quới 3, ...   \n",
       "3       Thôn Thanh Đặng, Xã Minh Hải, Huyện Văn Lâm, H...   \n",
       "4       Số 198 Bùi Thị Xuân, Phường 1, Thành phố Bảo L...   \n",
       "...                                                   ...   \n",
       "889451      Xã Viên An Đông, Huyện Ngọc Hiển, Tỉnh Cà Mau   \n",
       "889452           Xã Viên An, Huyện Ngọc Hiển, Tỉnh Cà Mau   \n",
       "889453    Thị trấn Rạch Gốc, Huyện Ngọc Hiển, Tỉnh Cà Mau   \n",
       "889454            Xã Tân Ân, Huyện Ngọc Hiển, Tỉnh Cà Mau   \n",
       "889455           Xã Đất Mũi, Huyện Ngọc Hiển, Tỉnh Cà Mau   \n",
       "\n",
       "                                           filter_address  \\\n",
       "0           Phường La Khê, Quận Hà Đông, Thành phố Hà Nội   \n",
       "1       Phường Phạm Ngũ Lão, Quận 1, Thành phố Hồ Chí ...   \n",
       "2       đường Quang Trung, Phường Châu Phú B, Thành ph...   \n",
       "3                   Xã Minh Hải, Huyện Văn Lâm,  Hưng Yên   \n",
       "4              Phường 1, Thành phố Bảo Lộc, Tỉnh Lâm Đồng   \n",
       "...                                                   ...   \n",
       "889451      Xã Viên An Đông, Huyện Ngọc Hiển, Tỉnh Cà Mau   \n",
       "889452           Xã Viên An, Huyện Ngọc Hiển, Tỉnh Cà Mau   \n",
       "889453    Thị trấn Rạch Gốc, Huyện Ngọc Hiển, Tỉnh Cà Mau   \n",
       "889454            Xã Tân Ân, Huyện Ngọc Hiển, Tỉnh Cà Mau   \n",
       "889455           Xã Đất Mũi, Huyện Ngọc Hiển, Tỉnh Cà Mau   \n",
       "\n",
       "                                          mistake_address  \n",
       "0       NO01  LK 41 khu dich vu HT5 KDT Van Khe Phuong...  \n",
       "1       102/7/8 Cống Quỳnh, Phường Pham Ngu Lao, Quận ...  \n",
       "2       Số 2830 duong Quang Trung Khóm Châu Quới 3 Phu...  \n",
       "3        Thôn Than Đặng, Xã Minh Hi, Huyện Văn Lâm,Hư Yên  \n",
       "4       So 198 Bùi Thị Xuan Phường 1 Thành phố Bao Lộc...  \n",
       "...                                                   ...  \n",
       "889451      Xã Viên An Đông, Huyện Ngoc Hiển, Tinh Cà Mau  \n",
       "889452                X iên An, Huyện Ngọ iển,Tỉnh Cà Mau  \n",
       "889453      Thị trấn Rạch Gốc Huyện Ngoc Hien Tỉnh Ca Mau  \n",
       "889454                   Xã ân n HuyệnNgọ Hiển TỉnhCà Mau  \n",
       "889455             Xa Dat Mui Huyen Ngoc Hien Tinh Ca Mau  \n",
       "\n",
       "[889456 rows x 3 columns]"
      ]
     },
     "execution_count": 31,
     "metadata": {},
     "output_type": "execute_result"
    }
   ],
   "source": [
    "train_df = pd.concat([train_df, meta_df], ignore_index=True)\n",
    "train_df "
   ]
  },
  {
   "cell_type": "code",
   "execution_count": 32,
   "id": "76d77db2-02ab-4461-8ac4-c5a9bc77d678",
   "metadata": {},
   "outputs": [
    {
     "data": {
      "text/html": [
       "<div>\n",
       "<style scoped>\n",
       "    .dataframe tbody tr th:only-of-type {\n",
       "        vertical-align: middle;\n",
       "    }\n",
       "\n",
       "    .dataframe tbody tr th {\n",
       "        vertical-align: top;\n",
       "    }\n",
       "\n",
       "    .dataframe thead th {\n",
       "        text-align: right;\n",
       "    }\n",
       "</style>\n",
       "<table border=\"1\" class=\"dataframe\">\n",
       "  <thead>\n",
       "    <tr style=\"text-align: right;\">\n",
       "      <th></th>\n",
       "      <th>input_address</th>\n",
       "      <th>filter_address</th>\n",
       "      <th>mistake_address</th>\n",
       "    </tr>\n",
       "  </thead>\n",
       "  <tbody>\n",
       "    <tr>\n",
       "      <th>0</th>\n",
       "      <td>NO01 - LK 41 khu dịch vụ HT5, KĐT Văn Khê, Phư...</td>\n",
       "      <td>Phường La Khê, Quận Hà Đông, Thành phố Hà Nội</td>\n",
       "      <td>NO01  LK 41 khu dich vu HT5 KDT Van Khe Phuong...</td>\n",
       "    </tr>\n",
       "    <tr>\n",
       "      <th>1</th>\n",
       "      <td>102/7/8 Cống Quỳnh, Phường Phạm Ngũ Lão, Quận ...</td>\n",
       "      <td>Phường Phạm Ngũ Lão, Quận 1, Thành phố Hồ Chí ...</td>\n",
       "      <td>102/7/8 Cống Quỳnh, Phường Pham Ngu Lao, Quận ...</td>\n",
       "    </tr>\n",
       "    <tr>\n",
       "      <th>2</th>\n",
       "      <td>Số 28-30 đường Quang Trung, Khóm Châu Quới 3, ...</td>\n",
       "      <td>đường Quang Trung, Phường Châu Phú B, Thành ph...</td>\n",
       "      <td>Số 2830 duong Quang Trung Khóm Châu Quới 3 Phu...</td>\n",
       "    </tr>\n",
       "    <tr>\n",
       "      <th>3</th>\n",
       "      <td>Thôn Thanh Đặng, Xã Minh Hải, Huyện Văn Lâm, H...</td>\n",
       "      <td>Xã Minh Hải, Huyện Văn Lâm,  Hưng Yên</td>\n",
       "      <td>Thôn Than Đặng, Xã Minh Hi, Huyện Văn Lâm,Hư Yên</td>\n",
       "    </tr>\n",
       "    <tr>\n",
       "      <th>4</th>\n",
       "      <td>Số 198 Bùi Thị Xuân, Phường 1, Thành phố Bảo L...</td>\n",
       "      <td>Phường 1, Thành phố Bảo Lộc, Tỉnh Lâm Đồng</td>\n",
       "      <td>So 198 Bùi Thị Xuan Phường 1 Thành phố Bao Lộc...</td>\n",
       "    </tr>\n",
       "    <tr>\n",
       "      <th>...</th>\n",
       "      <td>...</td>\n",
       "      <td>...</td>\n",
       "      <td>...</td>\n",
       "    </tr>\n",
       "    <tr>\n",
       "      <th>889451</th>\n",
       "      <td>Xã Viên An Đông, Huyện Ngọc Hiển, Tỉnh Cà Mau</td>\n",
       "      <td>Xã Viên An Đông, Huyện Ngọc Hiển, Tỉnh Cà Mau</td>\n",
       "      <td>Xã Viên An Đông, Huyện Ngoc Hiển, Tinh Cà Mau</td>\n",
       "    </tr>\n",
       "    <tr>\n",
       "      <th>889452</th>\n",
       "      <td>Xã Viên An, Huyện Ngọc Hiển, Tỉnh Cà Mau</td>\n",
       "      <td>Xã Viên An, Huyện Ngọc Hiển, Tỉnh Cà Mau</td>\n",
       "      <td>X iên An, Huyện Ngọ iển,Tỉnh Cà Mau</td>\n",
       "    </tr>\n",
       "    <tr>\n",
       "      <th>889453</th>\n",
       "      <td>Thị trấn Rạch Gốc, Huyện Ngọc Hiển, Tỉnh Cà Mau</td>\n",
       "      <td>Thị trấn Rạch Gốc, Huyện Ngọc Hiển, Tỉnh Cà Mau</td>\n",
       "      <td>Thị trấn Rạch Gốc Huyện Ngoc Hien Tỉnh Ca Mau</td>\n",
       "    </tr>\n",
       "    <tr>\n",
       "      <th>889454</th>\n",
       "      <td>Xã Tân Ân, Huyện Ngọc Hiển, Tỉnh Cà Mau</td>\n",
       "      <td>Xã Tân Ân, Huyện Ngọc Hiển, Tỉnh Cà Mau</td>\n",
       "      <td>Xã ân n HuyệnNgọ Hiển TỉnhCà Mau</td>\n",
       "    </tr>\n",
       "    <tr>\n",
       "      <th>889455</th>\n",
       "      <td>Xã Đất Mũi, Huyện Ngọc Hiển, Tỉnh Cà Mau</td>\n",
       "      <td>Xã Đất Mũi, Huyện Ngọc Hiển, Tỉnh Cà Mau</td>\n",
       "      <td>Xa Dat Mui Huyen Ngoc Hien Tinh Ca Mau</td>\n",
       "    </tr>\n",
       "  </tbody>\n",
       "</table>\n",
       "<p>889456 rows × 3 columns</p>\n",
       "</div>"
      ],
      "text/plain": [
       "                                            input_address  \\\n",
       "0       NO01 - LK 41 khu dịch vụ HT5, KĐT Văn Khê, Phư...   \n",
       "1       102/7/8 Cống Quỳnh, Phường Phạm Ngũ Lão, Quận ...   \n",
       "2       Số 28-30 đường Quang Trung, Khóm Châu Quới 3, ...   \n",
       "3       Thôn Thanh Đặng, Xã Minh Hải, Huyện Văn Lâm, H...   \n",
       "4       Số 198 Bùi Thị Xuân, Phường 1, Thành phố Bảo L...   \n",
       "...                                                   ...   \n",
       "889451      Xã Viên An Đông, Huyện Ngọc Hiển, Tỉnh Cà Mau   \n",
       "889452           Xã Viên An, Huyện Ngọc Hiển, Tỉnh Cà Mau   \n",
       "889453    Thị trấn Rạch Gốc, Huyện Ngọc Hiển, Tỉnh Cà Mau   \n",
       "889454            Xã Tân Ân, Huyện Ngọc Hiển, Tỉnh Cà Mau   \n",
       "889455           Xã Đất Mũi, Huyện Ngọc Hiển, Tỉnh Cà Mau   \n",
       "\n",
       "                                           filter_address  \\\n",
       "0           Phường La Khê, Quận Hà Đông, Thành phố Hà Nội   \n",
       "1       Phường Phạm Ngũ Lão, Quận 1, Thành phố Hồ Chí ...   \n",
       "2       đường Quang Trung, Phường Châu Phú B, Thành ph...   \n",
       "3                   Xã Minh Hải, Huyện Văn Lâm,  Hưng Yên   \n",
       "4              Phường 1, Thành phố Bảo Lộc, Tỉnh Lâm Đồng   \n",
       "...                                                   ...   \n",
       "889451      Xã Viên An Đông, Huyện Ngọc Hiển, Tỉnh Cà Mau   \n",
       "889452           Xã Viên An, Huyện Ngọc Hiển, Tỉnh Cà Mau   \n",
       "889453    Thị trấn Rạch Gốc, Huyện Ngọc Hiển, Tỉnh Cà Mau   \n",
       "889454            Xã Tân Ân, Huyện Ngọc Hiển, Tỉnh Cà Mau   \n",
       "889455           Xã Đất Mũi, Huyện Ngọc Hiển, Tỉnh Cà Mau   \n",
       "\n",
       "                                          mistake_address  \n",
       "0       NO01  LK 41 khu dich vu HT5 KDT Van Khe Phuong...  \n",
       "1       102/7/8 Cống Quỳnh, Phường Pham Ngu Lao, Quận ...  \n",
       "2       Số 2830 duong Quang Trung Khóm Châu Quới 3 Phu...  \n",
       "3        Thôn Than Đặng, Xã Minh Hi, Huyện Văn Lâm,Hư Yên  \n",
       "4       So 198 Bùi Thị Xuan Phường 1 Thành phố Bao Lộc...  \n",
       "...                                                   ...  \n",
       "889451      Xã Viên An Đông, Huyện Ngoc Hiển, Tinh Cà Mau  \n",
       "889452                X iên An, Huyện Ngọ iển,Tỉnh Cà Mau  \n",
       "889453      Thị trấn Rạch Gốc Huyện Ngoc Hien Tỉnh Ca Mau  \n",
       "889454                   Xã ân n HuyệnNgọ Hiển TỉnhCà Mau  \n",
       "889455             Xa Dat Mui Huyen Ngoc Hien Tinh Ca Mau  \n",
       "\n",
       "[889456 rows x 3 columns]"
      ]
     },
     "execution_count": 32,
     "metadata": {},
     "output_type": "execute_result"
    }
   ],
   "source": [
    "train_df"
   ]
  },
  {
   "cell_type": "code",
   "execution_count": 34,
   "id": "ec18fa05-d833-4db4-acd9-342cd501d0de",
   "metadata": {},
   "outputs": [
    {
     "data": {
      "text/html": [
       "<div>\n",
       "<style scoped>\n",
       "    .dataframe tbody tr th:only-of-type {\n",
       "        vertical-align: middle;\n",
       "    }\n",
       "\n",
       "    .dataframe tbody tr th {\n",
       "        vertical-align: top;\n",
       "    }\n",
       "\n",
       "    .dataframe thead th {\n",
       "        text-align: right;\n",
       "    }\n",
       "</style>\n",
       "<table border=\"1\" class=\"dataframe\">\n",
       "  <thead>\n",
       "    <tr style=\"text-align: right;\">\n",
       "      <th></th>\n",
       "      <th>input_address</th>\n",
       "      <th>filter_address</th>\n",
       "      <th>mistake_address</th>\n",
       "    </tr>\n",
       "  </thead>\n",
       "  <tbody>\n",
       "    <tr>\n",
       "      <th>686189</th>\n",
       "      <td>49/46/146 Đường Số 51, Phường 14, Quận Gò Vấp,...</td>\n",
       "      <td>Đường Số 51, Phường 14, Quận Gò Vấp, TP Hồ Chí...</td>\n",
       "      <td>49/46 /146 đường số 51, phường 14, q uận  gò  ...</td>\n",
       "    </tr>\n",
       "    <tr>\n",
       "      <th>1046878</th>\n",
       "      <td>203 Cư xá Tân Sơn Nhì 1, Ba Vân, Phường 14, Qu...</td>\n",
       "      <td>Phường 14, Quận Tân Bình, TP Hồ Chí Minh</td>\n",
       "      <td>203  cư xá tân sơn nhì 1,  ba vân, phường 14, ...</td>\n",
       "    </tr>\n",
       "    <tr>\n",
       "      <th>329395</th>\n",
       "      <td>Khối Trung Thành, Phường Nghi Hải, Thị xã Cửa ...</td>\n",
       "      <td>Phường Nghi Hải, Thị xã Cửa Lò, Tỉnh Nghệ An</td>\n",
       "      <td>Khối Tung Thàh, Phường Nghi ải, Thị xã Cửa Lò,...</td>\n",
       "    </tr>\n",
       "    <tr>\n",
       "      <th>167820</th>\n",
       "      <td>Số 22 phố Trần Khát Chân, Phường Bạch Đằng, Qu...</td>\n",
       "      <td>Phường Bạch Đằng, Quận Hai Bà Trưng, Thành phố...</td>\n",
       "      <td>số 22 phố trần khát chân phường bạch đằng quận...</td>\n",
       "    </tr>\n",
       "    <tr>\n",
       "      <th>341349</th>\n",
       "      <td>Số nhà 10, Ngách 102/27 Khuất Duy Tiến, Phường...</td>\n",
       "      <td>Phường Nhân Chính, Quận Thanh Xuân, Thành phố ...</td>\n",
       "      <td>số nhà 10 ngách 102/27 khuất duy tiến phường n...</td>\n",
       "    </tr>\n",
       "    <tr>\n",
       "      <th>...</th>\n",
       "      <td>...</td>\n",
       "      <td>...</td>\n",
       "      <td>...</td>\n",
       "    </tr>\n",
       "    <tr>\n",
       "      <th>417869</th>\n",
       "      <td>Số 399, đường Nguyễn Xiển, Phường Đại Kim, Quậ...</td>\n",
       "      <td>đường Nguyễn Xiển, Phường Đại Kim, Quận Hoàng ...</td>\n",
       "      <td>Số 399 đường Nguyễn Xiển Phuong Đại Kim Quan H...</td>\n",
       "    </tr>\n",
       "    <tr>\n",
       "      <th>493172</th>\n",
       "      <td>Tổ 1, ấp 2, Xã Suối Ngô, Huyện Tân Châu, Tây Ninh</td>\n",
       "      <td>Xã Suối Ngô, Huyện Tân Châu,  Tây Ninh</td>\n",
       "      <td>tổ  1, ấp 2, xã suối  ngô, huyện tân ch âu,  t...</td>\n",
       "    </tr>\n",
       "    <tr>\n",
       "      <th>173900</th>\n",
       "      <td>240 Nguyễn Huệ, Thị Trấn La Hà, Huyện Tư Nghĩa...</td>\n",
       "      <td>Thị Trấn La Hà, Huyện Tư Nghĩa, Tỉnh Quảng Ngãi</td>\n",
       "      <td>240 nguyễn huệ thị trấn la hà huyện tư nghĩa t...</td>\n",
       "    </tr>\n",
       "    <tr>\n",
       "      <th>680769</th>\n",
       "      <td>Lô E5, KCN Cầu Tràm, Xã Long Trạch, Huyện Cần ...</td>\n",
       "      <td>Xã Long Trạch, Huyện Cần Đước,  Long An</td>\n",
       "      <td>lô e5 kcn cầu tràm xã long trạch huyện cần đướ...</td>\n",
       "    </tr>\n",
       "    <tr>\n",
       "      <th>609348</th>\n",
       "      <td>Thửa đất số 1056, tờ bản đồ số 37, khu phố Tân...</td>\n",
       "      <td>Phường Tân Hiệp, Thị xã Tân Uyên,  Bình Dương</td>\n",
       "      <td>Thua đất số 1056, tờ ban đồ số 37, khu phố Tân...</td>\n",
       "    </tr>\n",
       "  </tbody>\n",
       "</table>\n",
       "<p>97564 rows × 3 columns</p>\n",
       "</div>"
      ],
      "text/plain": [
       "                                             input_address  \\\n",
       "686189   49/46/146 Đường Số 51, Phường 14, Quận Gò Vấp,...   \n",
       "1046878  203 Cư xá Tân Sơn Nhì 1, Ba Vân, Phường 14, Qu...   \n",
       "329395   Khối Trung Thành, Phường Nghi Hải, Thị xã Cửa ...   \n",
       "167820   Số 22 phố Trần Khát Chân, Phường Bạch Đằng, Qu...   \n",
       "341349   Số nhà 10, Ngách 102/27 Khuất Duy Tiến, Phường...   \n",
       "...                                                    ...   \n",
       "417869   Số 399, đường Nguyễn Xiển, Phường Đại Kim, Quậ...   \n",
       "493172   Tổ 1, ấp 2, Xã Suối Ngô, Huyện Tân Châu, Tây Ninh   \n",
       "173900   240 Nguyễn Huệ, Thị Trấn La Hà, Huyện Tư Nghĩa...   \n",
       "680769   Lô E5, KCN Cầu Tràm, Xã Long Trạch, Huyện Cần ...   \n",
       "609348   Thửa đất số 1056, tờ bản đồ số 37, khu phố Tân...   \n",
       "\n",
       "                                            filter_address  \\\n",
       "686189   Đường Số 51, Phường 14, Quận Gò Vấp, TP Hồ Chí...   \n",
       "1046878           Phường 14, Quận Tân Bình, TP Hồ Chí Minh   \n",
       "329395        Phường Nghi Hải, Thị xã Cửa Lò, Tỉnh Nghệ An   \n",
       "167820   Phường Bạch Đằng, Quận Hai Bà Trưng, Thành phố...   \n",
       "341349   Phường Nhân Chính, Quận Thanh Xuân, Thành phố ...   \n",
       "...                                                    ...   \n",
       "417869   đường Nguyễn Xiển, Phường Đại Kim, Quận Hoàng ...   \n",
       "493172              Xã Suối Ngô, Huyện Tân Châu,  Tây Ninh   \n",
       "173900     Thị Trấn La Hà, Huyện Tư Nghĩa, Tỉnh Quảng Ngãi   \n",
       "680769             Xã Long Trạch, Huyện Cần Đước,  Long An   \n",
       "609348       Phường Tân Hiệp, Thị xã Tân Uyên,  Bình Dương   \n",
       "\n",
       "                                           mistake_address  \n",
       "686189   49/46 /146 đường số 51, phường 14, q uận  gò  ...  \n",
       "1046878  203  cư xá tân sơn nhì 1,  ba vân, phường 14, ...  \n",
       "329395   Khối Tung Thàh, Phường Nghi ải, Thị xã Cửa Lò,...  \n",
       "167820   số 22 phố trần khát chân phường bạch đằng quận...  \n",
       "341349   số nhà 10 ngách 102/27 khuất duy tiến phường n...  \n",
       "...                                                    ...  \n",
       "417869   Số 399 đường Nguyễn Xiển Phuong Đại Kim Quan H...  \n",
       "493172   tổ  1, ấp 2, xã suối  ngô, huyện tân ch âu,  t...  \n",
       "173900   240 nguyễn huệ thị trấn la hà huyện tư nghĩa t...  \n",
       "680769   lô e5 kcn cầu tràm xã long trạch huyện cần đướ...  \n",
       "609348   Thua đất số 1056, tờ ban đồ số 37, khu phố Tân...  \n",
       "\n",
       "[97564 rows x 3 columns]"
      ]
     },
     "execution_count": 34,
     "metadata": {},
     "output_type": "execute_result"
    }
   ],
   "source": [
    "val_df"
   ]
  },
  {
   "cell_type": "code",
   "execution_count": 22,
   "id": "3cd1d3bd-42f4-4f86-9508-e31b5e09264b",
   "metadata": {
    "tags": []
   },
   "outputs": [],
   "source": [
    "def preprocess_function(examples, padding=\"max_length\"):\n",
    "    # tokenize inputs\n",
    "    model_inputs = tokenizer(\n",
    "        examples[\"inputs\"], max_length=256, truncation=True, padding=True\n",
    "    )\n",
    "    \n",
    "    # Tokenize targets with the `text_target` keyword argument\n",
    "    labels = tokenizer(\n",
    "        examples[\"labels\"], max_length=256, truncation=True, padding=True\n",
    "    )\n",
    "    \n",
    "    # If we are padding here, replace all tokenizer.pad_token_id in the labels by -100 when we want to ignore\n",
    "    # padding in the loss.\n",
    "    if padding == \"max_length\":\n",
    "        labels[\"input_ids\"] = [\n",
    "            [(l if l != tokenizer.pad_token_id else -100) for l in label] for label in labels[\"input_ids\"]\n",
    "        ]\n",
    "        \n",
    "    model_inputs['labels'] = labels['input_ids']\n",
    "    model_inputs['input_ids'] = model_inputs['input_ids']\n",
    "    return model_inputs"
   ]
  },
  {
   "cell_type": "code",
   "execution_count": 21,
   "id": "5841ab54-9900-42fa-886c-b97ea4d7bbc0",
   "metadata": {
    "tags": []
   },
   "outputs": [
    {
     "data": {
      "application/vnd.jupyter.widget-view+json": {
       "model_id": "352e9ba7f401463b8f1a13f0f926c923",
       "version_major": 2,
       "version_minor": 0
      },
      "text/plain": [
       "Map (num_proc=8):   0%|          | 0/415245 [00:00<?, ? examples/s]"
      ]
     },
     "metadata": {},
     "output_type": "display_data"
    },
    {
     "name": "stderr",
     "output_type": "stream",
     "text": [
      "/home/nghiatl/anaconda3/envs/chatgpt/lib/python3.8/site-packages/datasets/table.py:1395: FutureWarning: promote has been superseded by mode='default'.\n",
      "  block_group = [InMemoryTable(cls._concat_blocks(list(block_group), axis=axis))]\n",
      "/home/nghiatl/anaconda3/envs/chatgpt/lib/python3.8/site-packages/datasets/table.py:1421: FutureWarning: promote has been superseded by mode='default'.\n",
      "  table = cls._concat_blocks(blocks, axis=0)\n"
     ]
    },
    {
     "data": {
      "application/vnd.jupyter.widget-view+json": {
       "model_id": "caa4d1dce68141c3953bbf3c2b8d508e",
       "version_major": 2,
       "version_minor": 0
      },
      "text/plain": [
       "Map (num_proc=8):   0%|          | 0/46139 [00:00<?, ? examples/s]"
      ]
     },
     "metadata": {},
     "output_type": "display_data"
    }
   ],
   "source": [
    "dict_obj = {'inputs': train_df['mistake_address'], 'labels': train_df['filter_address']}\n",
    "dataset = Dataset.from_dict(dict_obj)\n",
    "# dataset = dataset.train_test_split(test_size=0.1)\n",
    "train_data = dataset.map(preprocess_function, batched=True, remove_columns=['inputs'], num_proc=8)"
   ]
  },
  {
   "cell_type": "code",
   "execution_count": null,
   "id": "159f7385-1294-47fc-a845-140a54c485ea",
   "metadata": {},
   "outputs": [],
   "source": [
    "dict_obj = {'inputs': train_df['mistake_address'], 'labels': train_df['filter_address']}\n",
    "dataset = Dataset.from_dict(dict_obj)\n",
    "# dataset = dataset.train_test_split(test_size=0.1)\n",
    "train_data = dataset.map(preprocess_function, batched=True, remove_columns=['inputs'], num_proc=8)"
   ]
  },
  {
   "cell_type": "code",
   "execution_count": 22,
   "id": "77f5c5c7-23dd-4184-b398-89036d6894d1",
   "metadata": {
    "tags": []
   },
   "outputs": [
    {
     "data": {
      "application/vnd.jupyter.widget-view+json": {
       "model_id": "2f5a33ba80e5436d88bcc9e680998145",
       "version_major": 2,
       "version_minor": 0
      },
      "text/plain": [
       "Map (num_proc=8):   0%|          | 0/50000 [00:00<?, ? examples/s]"
      ]
     },
     "metadata": {},
     "output_type": "display_data"
    }
   ],
   "source": [
    "dict_obj = {'inputs': test_df['mistake_address'], 'labels': test_df['mistake_address']}\n",
    "dataset = Dataset.from_dict(dict_obj)\n",
    "test_data = dataset.map(preprocess_function, batched=True, remove_columns=['inputs'], num_proc=8)"
   ]
  },
  {
   "cell_type": "code",
   "execution_count": 24,
   "id": "37d571c4-2603-4a8a-87cb-33a24d2c7307",
   "metadata": {},
   "outputs": [],
   "source": [
    "# train_data['train'].__getitem__(0)['input_ids']"
   ]
  },
  {
   "cell_type": "code",
   "execution_count": 25,
   "id": "b5175dc3-d33f-4fe7-a3ff-314cf3c712ef",
   "metadata": {},
   "outputs": [
    {
     "data": {
      "text/plain": [
       "['labels', 'input_ids', 'attention_mask']"
      ]
     },
     "execution_count": 25,
     "metadata": {},
     "output_type": "execute_result"
    }
   ],
   "source": [
    "train_data['train'].column_names"
   ]
  },
  {
   "cell_type": "code",
   "execution_count": 24,
   "id": "077c4f0e-b320-4c8a-9778-3cadfec4d3d8",
   "metadata": {
    "tags": []
   },
   "outputs": [
    {
     "data": {
      "text/plain": [
       "50000"
      ]
     },
     "execution_count": 24,
     "metadata": {},
     "output_type": "execute_result"
    }
   ],
   "source": [
    "len(test_data)"
   ]
  },
  {
   "cell_type": "code",
   "execution_count": 31,
   "id": "e0049e7f-c450-4d12-b0b8-62fee5668c76",
   "metadata": {},
   "outputs": [],
   "source": [
    "data_collator = DataCollatorForSeq2Seq(tokenizer, model=model, pad_to_multiple_of=8, return_tensors=\"pt\")\n",
    "# data_collator"
   ]
  },
  {
   "cell_type": "code",
   "execution_count": 32,
   "id": "ad2b9776-e1c9-4131-86a8-8765250e582d",
   "metadata": {},
   "outputs": [
    {
     "name": "stderr",
     "output_type": "stream",
     "text": [
      "You're using a LlamaTokenizerFast tokenizer. Please note that with a fast tokenizer, using the `__call__` method is faster than using a method to encode the text followed by a call to the `pad` method to get a padded encoding.\n"
     ]
    },
    {
     "data": {
      "text/plain": [
       "torch.Size([1, 32])"
      ]
     },
     "execution_count": 32,
     "metadata": {},
     "output_type": "execute_result"
    }
   ],
   "source": [
    "data_collator([train_data['train'].__getitem__(2)])['labels'].shape"
   ]
  },
  {
   "cell_type": "markdown",
   "id": "1ab778de-7a6d-42b8-a416-efc9771abc54",
   "metadata": {},
   "source": [
    "## PEFT"
   ]
  },
  {
   "cell_type": "code",
   "execution_count": 33,
   "id": "f8fcd511-a8bc-48e8-a9dd-00aa75375cd4",
   "metadata": {},
   "outputs": [],
   "source": [
    "from peft import PeftModel, LoraConfig, get_peft_model, prepare_model_for_int8_training, TaskType"
   ]
  },
  {
   "cell_type": "code",
   "execution_count": 51,
   "id": "277e4fa4-2b6b-42ec-be43-2b264b8aa629",
   "metadata": {},
   "outputs": [],
   "source": [
    "from trl import SFTTrainer"
   ]
  },
  {
   "cell_type": "code",
   "execution_count": 38,
   "id": "cff8cf85-06b7-45dd-932e-81602c462c43",
   "metadata": {},
   "outputs": [
    {
     "name": "stdout",
     "output_type": "stream",
     "text": [
      "trainable params: 2,621,440 || all params: 2,777,418,240 || trainable%: 0.09438405646821128\n"
     ]
    }
   ],
   "source": [
    "# Define LoRA Config\n",
    "lora_config = LoraConfig(\n",
    " r=8,\n",
    " lora_alpha=16,\n",
    " target_modules=[\"q_proj\", \"v_proj\"],\n",
    " lora_dropout=0.05,\n",
    " bias=\"none\",\n",
    " task_type=\"CAUSAL_LM\"\n",
    ")\n",
    "# prepare int-8 model for training\n",
    "# model = prepare_model_for_int8_training(model)\n",
    "\n",
    "# add LoRA adaptor\n",
    "model = get_peft_model(model, lora_config)\n",
    "model.print_trainable_parameters()"
   ]
  },
  {
   "cell_type": "code",
   "execution_count": 26,
   "id": "85e3c6eb-95ae-442a-a22a-2ae5204b76b8",
   "metadata": {},
   "outputs": [],
   "source": [
    "training_args = Seq2SeqTrainingArguments(\n",
    "    \"T5_address_model/\",\n",
    "    do_train=True,\n",
    "    do_eval=True,\n",
    "    evaluation_strategy='epoch',\n",
    "    save_strategy='epoch',\n",
    "    num_train_epochs=15,\n",
    "    learning_rate=1e-5,\n",
    "    warmup_ratio=0.05,\n",
    "    weight_decay=0.01,\n",
    "    per_device_train_batch_size=4,\n",
    "    per_device_eval_batch_size=2,\n",
    "    logging_dir='./log',\n",
    "    group_by_length=True,\n",
    "    load_best_model_at_end=True,\n",
    "    save_total_limit=1,\n",
    "    fp16=True,\n",
    ")"
   ]
  },
  {
   "cell_type": "code",
   "execution_count": 40,
   "id": "0f543e68-3b8b-480f-b560-2c3f83ac2f1a",
   "metadata": {},
   "outputs": [],
   "source": [
    "output_dir = \"lora_address_model\""
   ]
  },
  {
   "cell_type": "code",
   "execution_count": 46,
   "id": "6686e00a-1770-48b6-b130-903dec96fbec",
   "metadata": {},
   "outputs": [],
   "source": [
    "training_args = Seq2SeqTrainingArguments(\n",
    "    output_dir=\"lora_llama_address_model/\",\n",
    "    evaluation_strategy='epoch',\n",
    "    per_device_train_batch_size=8,\n",
    "    gradient_accumulation_steps=1, \n",
    "    learning_rate=1e-4, # higher learning rate\n",
    "    num_train_epochs=3,\n",
    "    logging_dir=f\"{output_dir}/logs\",\n",
    "    logging_steps = 500,\n",
    "    group_by_length=True,\n",
    "    save_strategy='epoch',\n",
    "    # load_best_model_at_end=True,\n",
    "    save_total_limit=2,\n",
    ")"
   ]
  },
  {
   "cell_type": "code",
   "execution_count": 47,
   "id": "453e94ce-7c21-4f85-a1f7-f6d327059727",
   "metadata": {},
   "outputs": [
    {
     "data": {
      "text/plain": [
       "1125.0"
      ]
     },
     "execution_count": 47,
     "metadata": {},
     "output_type": "execute_result"
    }
   ],
   "source": [
    "len(train_data[\"train\"]) / 4"
   ]
  },
  {
   "cell_type": "code",
   "execution_count": 48,
   "id": "50c518d3-89c7-4fd4-b687-c4a2ca00db5e",
   "metadata": {},
   "outputs": [
    {
     "data": {
      "text/plain": [
       "1500"
      ]
     },
     "execution_count": 48,
     "metadata": {},
     "output_type": "execute_result"
    }
   ],
   "source": [
    "300 * 5"
   ]
  },
  {
   "cell_type": "markdown",
   "id": "f4d28878-92c2-46d7-b44f-09baeb753a52",
   "metadata": {
    "tags": []
   },
   "source": [
    "## Training"
   ]
  },
  {
   "cell_type": "code",
   "execution_count": 44,
   "id": "251422d9-884a-418a-93f9-89c2e6db0b9b",
   "metadata": {},
   "outputs": [],
   "source": [
    "import evaluate\n",
    "import numpy as np\n",
    "\n",
    "rouge = evaluate.load(\"rouge\")\n",
    "\n",
    "def compute_metrics(eval_pred):\n",
    "    predictions, labels = eval_pred\n",
    "    decoded_preds = tokenizer.batch_decode(predictions, skip_special_tokens=True)\n",
    "    labels = np.where(labels != -100, labels, tokenizer.pad_token_id)\n",
    "    decoded_labels = tokenizer.batch_decode(labels, skip_special_tokens=True)\n",
    "\n",
    "    result = rouge.compute(predictions=decoded_preds, references=decoded_labels, use_stemmer=True)\n",
    "\n",
    "    prediction_lens = [np.count_nonzero(pred != tokenizer.pad_token_id) for pred in predictions]\n",
    "    result[\"gen_len\"] = np.mean(prediction_lens)\n",
    "\n",
    "    return {k: round(v, 4) for k, v in result.items()}"
   ]
  },
  {
   "cell_type": "code",
   "execution_count": 57,
   "id": "2966b6b2-ba28-4bd6-ae49-a65d753eef92",
   "metadata": {},
   "outputs": [
    {
     "ename": "ValueError",
     "evalue": "You need to pass a `dataset_text_field` or `formatting_func` argument to the SFTTrainer if you want to use the `ConstantLengthDataset`.",
     "output_type": "error",
     "traceback": [
      "\u001b[0;31m---------------------------------------------------------------------------\u001b[0m",
      "\u001b[0;31mValueError\u001b[0m                                Traceback (most recent call last)",
      "Cell \u001b[0;32mIn[57], line 1\u001b[0m\n\u001b[0;32m----> 1\u001b[0m trainer \u001b[38;5;241m=\u001b[39m \u001b[43mSFTTrainer\u001b[49m\u001b[43m(\u001b[49m\n\u001b[1;32m      2\u001b[0m \u001b[43m    \u001b[49m\u001b[43mmodel\u001b[49m\u001b[38;5;241;43m=\u001b[39;49m\u001b[43mmodel\u001b[49m\u001b[43m,\u001b[49m\n\u001b[1;32m      3\u001b[0m \u001b[43m    \u001b[49m\u001b[43mtrain_dataset\u001b[49m\u001b[38;5;241;43m=\u001b[39;49m\u001b[43mtrain_data\u001b[49m\u001b[43m[\u001b[49m\u001b[38;5;124;43m\"\u001b[39;49m\u001b[38;5;124;43mtrain\u001b[39;49m\u001b[38;5;124;43m\"\u001b[39;49m\u001b[43m]\u001b[49m\u001b[43m,\u001b[49m\n\u001b[1;32m      4\u001b[0m \u001b[43m    \u001b[49m\u001b[43meval_dataset\u001b[49m\u001b[38;5;241;43m=\u001b[39;49m\u001b[43mtrain_data\u001b[49m\u001b[43m[\u001b[49m\u001b[38;5;124;43m\"\u001b[39;49m\u001b[38;5;124;43mtest\u001b[39;49m\u001b[38;5;124;43m\"\u001b[39;49m\u001b[43m]\u001b[49m\u001b[43m,\u001b[49m\n\u001b[1;32m      5\u001b[0m \u001b[43m    \u001b[49m\u001b[43mpeft_config\u001b[49m\u001b[38;5;241;43m=\u001b[39;49m\u001b[43mlora_config\u001b[49m\u001b[43m,\u001b[49m\n\u001b[1;32m      6\u001b[0m \u001b[43m    \u001b[49m\u001b[43mpacking\u001b[49m\u001b[38;5;241;43m=\u001b[39;49m\u001b[38;5;28;43;01mTrue\u001b[39;49;00m\u001b[43m,\u001b[49m\n\u001b[1;32m      7\u001b[0m \u001b[43m    \u001b[49m\u001b[43mtokenizer\u001b[49m\u001b[38;5;241;43m=\u001b[39;49m\u001b[43mtokenizer\u001b[49m\u001b[43m,\u001b[49m\n\u001b[1;32m      8\u001b[0m \u001b[43m    \u001b[49m\u001b[43margs\u001b[49m\u001b[38;5;241;43m=\u001b[39;49m\u001b[43mtraining_args\u001b[49m\n\u001b[1;32m      9\u001b[0m \u001b[43m)\u001b[49m\n",
      "File \u001b[0;32m~/anaconda3/envs/chatgpt/lib/python3.8/site-packages/trl/trainer/sft_trainer.py:252\u001b[0m, in \u001b[0;36mSFTTrainer.__init__\u001b[0;34m(self, model, args, data_collator, train_dataset, eval_dataset, tokenizer, model_init, compute_metrics, callbacks, optimizers, preprocess_logits_for_metrics, peft_config, dataset_text_field, packing, formatting_func, max_seq_length, infinite, num_of_sequences, chars_per_token, dataset_num_proc, dataset_batch_size, neftune_noise_alpha, model_init_kwargs, dataset_kwargs)\u001b[0m\n\u001b[1;32m    250\u001b[0m     dataset_kwargs \u001b[38;5;241m=\u001b[39m {}\n\u001b[1;32m    251\u001b[0m \u001b[38;5;28;01mif\u001b[39;00m train_dataset \u001b[38;5;129;01mis\u001b[39;00m \u001b[38;5;129;01mnot\u001b[39;00m \u001b[38;5;28;01mNone\u001b[39;00m:\n\u001b[0;32m--> 252\u001b[0m     train_dataset \u001b[38;5;241m=\u001b[39m \u001b[38;5;28;43mself\u001b[39;49m\u001b[38;5;241;43m.\u001b[39;49m\u001b[43m_prepare_dataset\u001b[49m\u001b[43m(\u001b[49m\n\u001b[1;32m    253\u001b[0m \u001b[43m        \u001b[49m\u001b[43mtrain_dataset\u001b[49m\u001b[43m,\u001b[49m\n\u001b[1;32m    254\u001b[0m \u001b[43m        \u001b[49m\u001b[43mtokenizer\u001b[49m\u001b[43m,\u001b[49m\n\u001b[1;32m    255\u001b[0m \u001b[43m        \u001b[49m\u001b[43mpacking\u001b[49m\u001b[43m,\u001b[49m\n\u001b[1;32m    256\u001b[0m \u001b[43m        \u001b[49m\u001b[43mdataset_text_field\u001b[49m\u001b[43m,\u001b[49m\n\u001b[1;32m    257\u001b[0m \u001b[43m        \u001b[49m\u001b[43mmax_seq_length\u001b[49m\u001b[43m,\u001b[49m\n\u001b[1;32m    258\u001b[0m \u001b[43m        \u001b[49m\u001b[43mformatting_func\u001b[49m\u001b[43m,\u001b[49m\n\u001b[1;32m    259\u001b[0m \u001b[43m        \u001b[49m\u001b[43mnum_of_sequences\u001b[49m\u001b[43m,\u001b[49m\n\u001b[1;32m    260\u001b[0m \u001b[43m        \u001b[49m\u001b[43mchars_per_token\u001b[49m\u001b[43m,\u001b[49m\n\u001b[1;32m    261\u001b[0m \u001b[43m        \u001b[49m\u001b[38;5;241;43m*\u001b[39;49m\u001b[38;5;241;43m*\u001b[39;49m\u001b[43mdataset_kwargs\u001b[49m\u001b[43m,\u001b[49m\n\u001b[1;32m    262\u001b[0m \u001b[43m    \u001b[49m\u001b[43m)\u001b[49m\n\u001b[1;32m    263\u001b[0m \u001b[38;5;28;01mif\u001b[39;00m eval_dataset \u001b[38;5;129;01mis\u001b[39;00m \u001b[38;5;129;01mnot\u001b[39;00m \u001b[38;5;28;01mNone\u001b[39;00m:\n\u001b[1;32m    264\u001b[0m     _multiple \u001b[38;5;241m=\u001b[39m \u001b[38;5;28misinstance\u001b[39m(eval_dataset, \u001b[38;5;28mdict\u001b[39m)\n",
      "File \u001b[0;32m~/anaconda3/envs/chatgpt/lib/python3.8/site-packages/trl/trainer/sft_trainer.py:367\u001b[0m, in \u001b[0;36mSFTTrainer._prepare_dataset\u001b[0;34m(self, dataset, tokenizer, packing, dataset_text_field, max_seq_length, formatting_func, num_of_sequences, chars_per_token, append_concat_token, add_special_tokens)\u001b[0m\n\u001b[1;32m    362\u001b[0m     \u001b[38;5;28;01mreturn\u001b[39;00m \u001b[38;5;28mself\u001b[39m\u001b[38;5;241m.\u001b[39m_prepare_non_packed_dataloader(\n\u001b[1;32m    363\u001b[0m         tokenizer, dataset, dataset_text_field, max_seq_length, formatting_func, add_special_tokens\n\u001b[1;32m    364\u001b[0m     )\n\u001b[1;32m    366\u001b[0m \u001b[38;5;28;01melse\u001b[39;00m:\n\u001b[0;32m--> 367\u001b[0m     \u001b[38;5;28;01mreturn\u001b[39;00m \u001b[38;5;28;43mself\u001b[39;49m\u001b[38;5;241;43m.\u001b[39;49m\u001b[43m_prepare_packed_dataloader\u001b[49m\u001b[43m(\u001b[49m\n\u001b[1;32m    368\u001b[0m \u001b[43m        \u001b[49m\u001b[43mtokenizer\u001b[49m\u001b[43m,\u001b[49m\n\u001b[1;32m    369\u001b[0m \u001b[43m        \u001b[49m\u001b[43mdataset\u001b[49m\u001b[43m,\u001b[49m\n\u001b[1;32m    370\u001b[0m \u001b[43m        \u001b[49m\u001b[43mdataset_text_field\u001b[49m\u001b[43m,\u001b[49m\n\u001b[1;32m    371\u001b[0m \u001b[43m        \u001b[49m\u001b[43mmax_seq_length\u001b[49m\u001b[43m,\u001b[49m\n\u001b[1;32m    372\u001b[0m \u001b[43m        \u001b[49m\u001b[43mnum_of_sequences\u001b[49m\u001b[43m,\u001b[49m\n\u001b[1;32m    373\u001b[0m \u001b[43m        \u001b[49m\u001b[43mchars_per_token\u001b[49m\u001b[43m,\u001b[49m\n\u001b[1;32m    374\u001b[0m \u001b[43m        \u001b[49m\u001b[43mformatting_func\u001b[49m\u001b[43m,\u001b[49m\n\u001b[1;32m    375\u001b[0m \u001b[43m        \u001b[49m\u001b[43mappend_concat_token\u001b[49m\u001b[43m,\u001b[49m\n\u001b[1;32m    376\u001b[0m \u001b[43m        \u001b[49m\u001b[43madd_special_tokens\u001b[49m\u001b[43m,\u001b[49m\n\u001b[1;32m    377\u001b[0m \u001b[43m    \u001b[49m\u001b[43m)\u001b[49m\n",
      "File \u001b[0;32m~/anaconda3/envs/chatgpt/lib/python3.8/site-packages/trl/trainer/sft_trainer.py:461\u001b[0m, in \u001b[0;36mSFTTrainer._prepare_packed_dataloader\u001b[0;34m(self, tokenizer, dataset, dataset_text_field, max_seq_length, num_of_sequences, chars_per_token, formatting_func, append_concat_token, add_special_tokens)\u001b[0m\n\u001b[1;32m    459\u001b[0m     \u001b[38;5;28;01mreturn\u001b[39;00m packed_dataset\n\u001b[1;32m    460\u001b[0m \u001b[38;5;28;01melse\u001b[39;00m:\n\u001b[0;32m--> 461\u001b[0m     \u001b[38;5;28;01mraise\u001b[39;00m \u001b[38;5;167;01mValueError\u001b[39;00m(\n\u001b[1;32m    462\u001b[0m         \u001b[38;5;124m\"\u001b[39m\u001b[38;5;124mYou need to pass a `dataset_text_field` or `formatting_func` argument to the SFTTrainer if you want to use the `ConstantLengthDataset`.\u001b[39m\u001b[38;5;124m\"\u001b[39m\n\u001b[1;32m    463\u001b[0m     )\n",
      "\u001b[0;31mValueError\u001b[0m: You need to pass a `dataset_text_field` or `formatting_func` argument to the SFTTrainer if you want to use the `ConstantLengthDataset`."
     ]
    }
   ],
   "source": [
    "trainer = SFTTrainer(\n",
    "    model=model,\n",
    "    train_dataset=train_data[\"train\"],\n",
    "    eval_dataset=train_data[\"test\"],\n",
    "    peft_config=lora_config,\n",
    "    packing=True,\n",
    "    tokenizer=tokenizer,\n",
    "    args=training_args\n",
    ")"
   ]
  },
  {
   "cell_type": "code",
   "execution_count": 45,
   "id": "a9b8867e-c435-400e-8eeb-1c709b372255",
   "metadata": {
    "tags": []
   },
   "outputs": [
    {
     "name": "stderr",
     "output_type": "stream",
     "text": [
      "Detected kernel version 4.15.0, which is below the recommended minimum of 5.5.0; this can cause the process to hang. It is recommended to upgrade the kernel to the minimum version or higher.\n",
      "\u001b[34m\u001b[1mwandb\u001b[0m: Currently logged in as: \u001b[33mlenghia11a4\u001b[0m. Use \u001b[1m`wandb login --relogin`\u001b[0m to force relogin\n"
     ]
    },
    {
     "data": {
      "text/html": [
       "wandb version 0.16.1 is available!  To upgrade, please run:\n",
       " $ pip install wandb --upgrade"
      ],
      "text/plain": [
       "<IPython.core.display.HTML object>"
      ]
     },
     "metadata": {},
     "output_type": "display_data"
    },
    {
     "data": {
      "text/html": [
       "Tracking run with wandb version 0.15.12"
      ],
      "text/plain": [
       "<IPython.core.display.HTML object>"
      ]
     },
     "metadata": {},
     "output_type": "display_data"
    },
    {
     "data": {
      "text/html": [
       "Run data is saved locally in <code>/storage/nghiatl/ADDRESS/address_model/wandb/run-20231230_001912-1vxwrp3e</code>"
      ],
      "text/plain": [
       "<IPython.core.display.HTML object>"
      ]
     },
     "metadata": {},
     "output_type": "display_data"
    },
    {
     "data": {
      "text/html": [
       "Syncing run <strong><a href='https://wandb.ai/lenghia11a4/huggingface/runs/1vxwrp3e' target=\"_blank\">sunny-rain-17</a></strong> to <a href='https://wandb.ai/lenghia11a4/huggingface' target=\"_blank\">Weights & Biases</a> (<a href='https://wandb.me/run' target=\"_blank\">docs</a>)<br/>"
      ],
      "text/plain": [
       "<IPython.core.display.HTML object>"
      ]
     },
     "metadata": {},
     "output_type": "display_data"
    },
    {
     "data": {
      "text/html": [
       " View project at <a href='https://wandb.ai/lenghia11a4/huggingface' target=\"_blank\">https://wandb.ai/lenghia11a4/huggingface</a>"
      ],
      "text/plain": [
       "<IPython.core.display.HTML object>"
      ]
     },
     "metadata": {},
     "output_type": "display_data"
    },
    {
     "data": {
      "text/html": [
       " View run at <a href='https://wandb.ai/lenghia11a4/huggingface/runs/1vxwrp3e' target=\"_blank\">https://wandb.ai/lenghia11a4/huggingface/runs/1vxwrp3e</a>"
      ],
      "text/plain": [
       "<IPython.core.display.HTML object>"
      ]
     },
     "metadata": {},
     "output_type": "display_data"
    },
    {
     "name": "stderr",
     "output_type": "stream",
     "text": [
      "/home/nghiatl/anaconda3/envs/chatgpt/lib/python3.8/site-packages/bitsandbytes/nn/modules.py:226: UserWarning: Input type into Linear4bit is torch.float16, but bnb_4bit_compute_type=torch.float32 (default). This will lead to slow inference or training speed.\n",
      "  warnings.warn(f'Input type into Linear4bit is torch.float16, but bnb_4bit_compute_type=torch.float32 (default). This will lead to slow inference or training speed.')\n"
     ]
    },
    {
     "ename": "ValueError",
     "evalue": "Expected input batch_size (376) to match target batch_size (248).",
     "output_type": "error",
     "traceback": [
      "\u001b[0;31m---------------------------------------------------------------------------\u001b[0m",
      "\u001b[0;31mValueError\u001b[0m                                Traceback (most recent call last)",
      "Cell \u001b[0;32mIn[45], line 10\u001b[0m\n\u001b[1;32m      1\u001b[0m trainer \u001b[38;5;241m=\u001b[39m Seq2SeqTrainer(\n\u001b[1;32m      2\u001b[0m     model\u001b[38;5;241m=\u001b[39mmodel,\n\u001b[1;32m      3\u001b[0m     args\u001b[38;5;241m=\u001b[39mtraining_args,\n\u001b[0;32m   (...)\u001b[0m\n\u001b[1;32m      7\u001b[0m     data_collator\u001b[38;5;241m=\u001b[39mdata_collator,\n\u001b[1;32m      8\u001b[0m )\n\u001b[0;32m---> 10\u001b[0m \u001b[43mtrainer\u001b[49m\u001b[38;5;241;43m.\u001b[39;49m\u001b[43mtrain\u001b[49m\u001b[43m(\u001b[49m\u001b[43m)\u001b[49m\n",
      "File \u001b[0;32m~/anaconda3/envs/chatgpt/lib/python3.8/site-packages/transformers/trainer.py:1555\u001b[0m, in \u001b[0;36mTrainer.train\u001b[0;34m(self, resume_from_checkpoint, trial, ignore_keys_for_eval, **kwargs)\u001b[0m\n\u001b[1;32m   1553\u001b[0m         hf_hub_utils\u001b[38;5;241m.\u001b[39menable_progress_bars()\n\u001b[1;32m   1554\u001b[0m \u001b[38;5;28;01melse\u001b[39;00m:\n\u001b[0;32m-> 1555\u001b[0m     \u001b[38;5;28;01mreturn\u001b[39;00m \u001b[43minner_training_loop\u001b[49m\u001b[43m(\u001b[49m\n\u001b[1;32m   1556\u001b[0m \u001b[43m        \u001b[49m\u001b[43margs\u001b[49m\u001b[38;5;241;43m=\u001b[39;49m\u001b[43margs\u001b[49m\u001b[43m,\u001b[49m\n\u001b[1;32m   1557\u001b[0m \u001b[43m        \u001b[49m\u001b[43mresume_from_checkpoint\u001b[49m\u001b[38;5;241;43m=\u001b[39;49m\u001b[43mresume_from_checkpoint\u001b[49m\u001b[43m,\u001b[49m\n\u001b[1;32m   1558\u001b[0m \u001b[43m        \u001b[49m\u001b[43mtrial\u001b[49m\u001b[38;5;241;43m=\u001b[39;49m\u001b[43mtrial\u001b[49m\u001b[43m,\u001b[49m\n\u001b[1;32m   1559\u001b[0m \u001b[43m        \u001b[49m\u001b[43mignore_keys_for_eval\u001b[49m\u001b[38;5;241;43m=\u001b[39;49m\u001b[43mignore_keys_for_eval\u001b[49m\u001b[43m,\u001b[49m\n\u001b[1;32m   1560\u001b[0m \u001b[43m    \u001b[49m\u001b[43m)\u001b[49m\n",
      "File \u001b[0;32m~/anaconda3/envs/chatgpt/lib/python3.8/site-packages/transformers/trainer.py:1860\u001b[0m, in \u001b[0;36mTrainer._inner_training_loop\u001b[0;34m(self, batch_size, args, resume_from_checkpoint, trial, ignore_keys_for_eval)\u001b[0m\n\u001b[1;32m   1857\u001b[0m     \u001b[38;5;28mself\u001b[39m\u001b[38;5;241m.\u001b[39mcontrol \u001b[38;5;241m=\u001b[39m \u001b[38;5;28mself\u001b[39m\u001b[38;5;241m.\u001b[39mcallback_handler\u001b[38;5;241m.\u001b[39mon_step_begin(args, \u001b[38;5;28mself\u001b[39m\u001b[38;5;241m.\u001b[39mstate, \u001b[38;5;28mself\u001b[39m\u001b[38;5;241m.\u001b[39mcontrol)\n\u001b[1;32m   1859\u001b[0m \u001b[38;5;28;01mwith\u001b[39;00m \u001b[38;5;28mself\u001b[39m\u001b[38;5;241m.\u001b[39maccelerator\u001b[38;5;241m.\u001b[39maccumulate(model):\n\u001b[0;32m-> 1860\u001b[0m     tr_loss_step \u001b[38;5;241m=\u001b[39m \u001b[38;5;28;43mself\u001b[39;49m\u001b[38;5;241;43m.\u001b[39;49m\u001b[43mtraining_step\u001b[49m\u001b[43m(\u001b[49m\u001b[43mmodel\u001b[49m\u001b[43m,\u001b[49m\u001b[43m \u001b[49m\u001b[43minputs\u001b[49m\u001b[43m)\u001b[49m\n\u001b[1;32m   1862\u001b[0m \u001b[38;5;28;01mif\u001b[39;00m (\n\u001b[1;32m   1863\u001b[0m     args\u001b[38;5;241m.\u001b[39mlogging_nan_inf_filter\n\u001b[1;32m   1864\u001b[0m     \u001b[38;5;129;01mand\u001b[39;00m \u001b[38;5;129;01mnot\u001b[39;00m is_torch_tpu_available()\n\u001b[1;32m   1865\u001b[0m     \u001b[38;5;129;01mand\u001b[39;00m (torch\u001b[38;5;241m.\u001b[39misnan(tr_loss_step) \u001b[38;5;129;01mor\u001b[39;00m torch\u001b[38;5;241m.\u001b[39misinf(tr_loss_step))\n\u001b[1;32m   1866\u001b[0m ):\n\u001b[1;32m   1867\u001b[0m     \u001b[38;5;66;03m# if loss is nan or inf simply add the average of previous logged losses\u001b[39;00m\n\u001b[1;32m   1868\u001b[0m     tr_loss \u001b[38;5;241m+\u001b[39m\u001b[38;5;241m=\u001b[39m tr_loss \u001b[38;5;241m/\u001b[39m (\u001b[38;5;241m1\u001b[39m \u001b[38;5;241m+\u001b[39m \u001b[38;5;28mself\u001b[39m\u001b[38;5;241m.\u001b[39mstate\u001b[38;5;241m.\u001b[39mglobal_step \u001b[38;5;241m-\u001b[39m \u001b[38;5;28mself\u001b[39m\u001b[38;5;241m.\u001b[39m_globalstep_last_logged)\n",
      "File \u001b[0;32m~/anaconda3/envs/chatgpt/lib/python3.8/site-packages/transformers/trainer.py:2725\u001b[0m, in \u001b[0;36mTrainer.training_step\u001b[0;34m(self, model, inputs)\u001b[0m\n\u001b[1;32m   2722\u001b[0m     \u001b[38;5;28;01mreturn\u001b[39;00m loss_mb\u001b[38;5;241m.\u001b[39mreduce_mean()\u001b[38;5;241m.\u001b[39mdetach()\u001b[38;5;241m.\u001b[39mto(\u001b[38;5;28mself\u001b[39m\u001b[38;5;241m.\u001b[39margs\u001b[38;5;241m.\u001b[39mdevice)\n\u001b[1;32m   2724\u001b[0m \u001b[38;5;28;01mwith\u001b[39;00m \u001b[38;5;28mself\u001b[39m\u001b[38;5;241m.\u001b[39mcompute_loss_context_manager():\n\u001b[0;32m-> 2725\u001b[0m     loss \u001b[38;5;241m=\u001b[39m \u001b[38;5;28;43mself\u001b[39;49m\u001b[38;5;241;43m.\u001b[39;49m\u001b[43mcompute_loss\u001b[49m\u001b[43m(\u001b[49m\u001b[43mmodel\u001b[49m\u001b[43m,\u001b[49m\u001b[43m \u001b[49m\u001b[43minputs\u001b[49m\u001b[43m)\u001b[49m\n\u001b[1;32m   2727\u001b[0m \u001b[38;5;28;01mif\u001b[39;00m \u001b[38;5;28mself\u001b[39m\u001b[38;5;241m.\u001b[39margs\u001b[38;5;241m.\u001b[39mn_gpu \u001b[38;5;241m>\u001b[39m \u001b[38;5;241m1\u001b[39m:\n\u001b[1;32m   2728\u001b[0m     loss \u001b[38;5;241m=\u001b[39m loss\u001b[38;5;241m.\u001b[39mmean()  \u001b[38;5;66;03m# mean() to average on multi-gpu parallel training\u001b[39;00m\n",
      "File \u001b[0;32m~/anaconda3/envs/chatgpt/lib/python3.8/site-packages/transformers/trainer.py:2748\u001b[0m, in \u001b[0;36mTrainer.compute_loss\u001b[0;34m(self, model, inputs, return_outputs)\u001b[0m\n\u001b[1;32m   2746\u001b[0m \u001b[38;5;28;01melse\u001b[39;00m:\n\u001b[1;32m   2747\u001b[0m     labels \u001b[38;5;241m=\u001b[39m \u001b[38;5;28;01mNone\u001b[39;00m\n\u001b[0;32m-> 2748\u001b[0m outputs \u001b[38;5;241m=\u001b[39m \u001b[43mmodel\u001b[49m\u001b[43m(\u001b[49m\u001b[38;5;241;43m*\u001b[39;49m\u001b[38;5;241;43m*\u001b[39;49m\u001b[43minputs\u001b[49m\u001b[43m)\u001b[49m\n\u001b[1;32m   2749\u001b[0m \u001b[38;5;66;03m# Save past state if it exists\u001b[39;00m\n\u001b[1;32m   2750\u001b[0m \u001b[38;5;66;03m# TODO: this needs to be fixed and made cleaner later.\u001b[39;00m\n\u001b[1;32m   2751\u001b[0m \u001b[38;5;28;01mif\u001b[39;00m \u001b[38;5;28mself\u001b[39m\u001b[38;5;241m.\u001b[39margs\u001b[38;5;241m.\u001b[39mpast_index \u001b[38;5;241m>\u001b[39m\u001b[38;5;241m=\u001b[39m \u001b[38;5;241m0\u001b[39m:\n",
      "File \u001b[0;32m~/anaconda3/envs/chatgpt/lib/python3.8/site-packages/torch/nn/modules/module.py:1518\u001b[0m, in \u001b[0;36mModule._wrapped_call_impl\u001b[0;34m(self, *args, **kwargs)\u001b[0m\n\u001b[1;32m   1516\u001b[0m     \u001b[38;5;28;01mreturn\u001b[39;00m \u001b[38;5;28mself\u001b[39m\u001b[38;5;241m.\u001b[39m_compiled_call_impl(\u001b[38;5;241m*\u001b[39margs, \u001b[38;5;241m*\u001b[39m\u001b[38;5;241m*\u001b[39mkwargs)  \u001b[38;5;66;03m# type: ignore[misc]\u001b[39;00m\n\u001b[1;32m   1517\u001b[0m \u001b[38;5;28;01melse\u001b[39;00m:\n\u001b[0;32m-> 1518\u001b[0m     \u001b[38;5;28;01mreturn\u001b[39;00m \u001b[38;5;28;43mself\u001b[39;49m\u001b[38;5;241;43m.\u001b[39;49m\u001b[43m_call_impl\u001b[49m\u001b[43m(\u001b[49m\u001b[38;5;241;43m*\u001b[39;49m\u001b[43margs\u001b[49m\u001b[43m,\u001b[49m\u001b[43m \u001b[49m\u001b[38;5;241;43m*\u001b[39;49m\u001b[38;5;241;43m*\u001b[39;49m\u001b[43mkwargs\u001b[49m\u001b[43m)\u001b[49m\n",
      "File \u001b[0;32m~/anaconda3/envs/chatgpt/lib/python3.8/site-packages/torch/nn/modules/module.py:1527\u001b[0m, in \u001b[0;36mModule._call_impl\u001b[0;34m(self, *args, **kwargs)\u001b[0m\n\u001b[1;32m   1522\u001b[0m \u001b[38;5;66;03m# If we don't have any hooks, we want to skip the rest of the logic in\u001b[39;00m\n\u001b[1;32m   1523\u001b[0m \u001b[38;5;66;03m# this function, and just call forward.\u001b[39;00m\n\u001b[1;32m   1524\u001b[0m \u001b[38;5;28;01mif\u001b[39;00m \u001b[38;5;129;01mnot\u001b[39;00m (\u001b[38;5;28mself\u001b[39m\u001b[38;5;241m.\u001b[39m_backward_hooks \u001b[38;5;129;01mor\u001b[39;00m \u001b[38;5;28mself\u001b[39m\u001b[38;5;241m.\u001b[39m_backward_pre_hooks \u001b[38;5;129;01mor\u001b[39;00m \u001b[38;5;28mself\u001b[39m\u001b[38;5;241m.\u001b[39m_forward_hooks \u001b[38;5;129;01mor\u001b[39;00m \u001b[38;5;28mself\u001b[39m\u001b[38;5;241m.\u001b[39m_forward_pre_hooks\n\u001b[1;32m   1525\u001b[0m         \u001b[38;5;129;01mor\u001b[39;00m _global_backward_pre_hooks \u001b[38;5;129;01mor\u001b[39;00m _global_backward_hooks\n\u001b[1;32m   1526\u001b[0m         \u001b[38;5;129;01mor\u001b[39;00m _global_forward_hooks \u001b[38;5;129;01mor\u001b[39;00m _global_forward_pre_hooks):\n\u001b[0;32m-> 1527\u001b[0m     \u001b[38;5;28;01mreturn\u001b[39;00m \u001b[43mforward_call\u001b[49m\u001b[43m(\u001b[49m\u001b[38;5;241;43m*\u001b[39;49m\u001b[43margs\u001b[49m\u001b[43m,\u001b[49m\u001b[43m \u001b[49m\u001b[38;5;241;43m*\u001b[39;49m\u001b[38;5;241;43m*\u001b[39;49m\u001b[43mkwargs\u001b[49m\u001b[43m)\u001b[49m\n\u001b[1;32m   1529\u001b[0m \u001b[38;5;28;01mtry\u001b[39;00m:\n\u001b[1;32m   1530\u001b[0m     result \u001b[38;5;241m=\u001b[39m \u001b[38;5;28;01mNone\u001b[39;00m\n",
      "File \u001b[0;32m~/anaconda3/envs/chatgpt/lib/python3.8/site-packages/peft/peft_model.py:1071\u001b[0m, in \u001b[0;36mPeftModelForCausalLM.forward\u001b[0;34m(self, input_ids, attention_mask, inputs_embeds, labels, output_attentions, output_hidden_states, return_dict, task_ids, **kwargs)\u001b[0m\n\u001b[1;32m   1060\u001b[0m             \u001b[38;5;28;01mraise\u001b[39;00m \u001b[38;5;167;01mAssertionError\u001b[39;00m(\u001b[38;5;124m\"\u001b[39m\u001b[38;5;124mforward in MPTForCausalLM does not support inputs_embeds\u001b[39m\u001b[38;5;124m\"\u001b[39m)\n\u001b[1;32m   1061\u001b[0m         \u001b[38;5;28;01mreturn\u001b[39;00m \u001b[38;5;28mself\u001b[39m\u001b[38;5;241m.\u001b[39mbase_model(\n\u001b[1;32m   1062\u001b[0m             input_ids\u001b[38;5;241m=\u001b[39minput_ids,\n\u001b[1;32m   1063\u001b[0m             attention_mask\u001b[38;5;241m=\u001b[39mattention_mask,\n\u001b[0;32m   (...)\u001b[0m\n\u001b[1;32m   1068\u001b[0m             \u001b[38;5;241m*\u001b[39m\u001b[38;5;241m*\u001b[39mkwargs,\n\u001b[1;32m   1069\u001b[0m         )\n\u001b[0;32m-> 1071\u001b[0m     \u001b[38;5;28;01mreturn\u001b[39;00m \u001b[38;5;28;43mself\u001b[39;49m\u001b[38;5;241;43m.\u001b[39;49m\u001b[43mbase_model\u001b[49m\u001b[43m(\u001b[49m\n\u001b[1;32m   1072\u001b[0m \u001b[43m        \u001b[49m\u001b[43minput_ids\u001b[49m\u001b[38;5;241;43m=\u001b[39;49m\u001b[43minput_ids\u001b[49m\u001b[43m,\u001b[49m\n\u001b[1;32m   1073\u001b[0m \u001b[43m        \u001b[49m\u001b[43mattention_mask\u001b[49m\u001b[38;5;241;43m=\u001b[39;49m\u001b[43mattention_mask\u001b[49m\u001b[43m,\u001b[49m\n\u001b[1;32m   1074\u001b[0m \u001b[43m        \u001b[49m\u001b[43minputs_embeds\u001b[49m\u001b[38;5;241;43m=\u001b[39;49m\u001b[43minputs_embeds\u001b[49m\u001b[43m,\u001b[49m\n\u001b[1;32m   1075\u001b[0m \u001b[43m        \u001b[49m\u001b[43mlabels\u001b[49m\u001b[38;5;241;43m=\u001b[39;49m\u001b[43mlabels\u001b[49m\u001b[43m,\u001b[49m\n\u001b[1;32m   1076\u001b[0m \u001b[43m        \u001b[49m\u001b[43moutput_attentions\u001b[49m\u001b[38;5;241;43m=\u001b[39;49m\u001b[43moutput_attentions\u001b[49m\u001b[43m,\u001b[49m\n\u001b[1;32m   1077\u001b[0m \u001b[43m        \u001b[49m\u001b[43moutput_hidden_states\u001b[49m\u001b[38;5;241;43m=\u001b[39;49m\u001b[43moutput_hidden_states\u001b[49m\u001b[43m,\u001b[49m\n\u001b[1;32m   1078\u001b[0m \u001b[43m        \u001b[49m\u001b[43mreturn_dict\u001b[49m\u001b[38;5;241;43m=\u001b[39;49m\u001b[43mreturn_dict\u001b[49m\u001b[43m,\u001b[49m\n\u001b[1;32m   1079\u001b[0m \u001b[43m        \u001b[49m\u001b[38;5;241;43m*\u001b[39;49m\u001b[38;5;241;43m*\u001b[39;49m\u001b[43mkwargs\u001b[49m\u001b[43m,\u001b[49m\n\u001b[1;32m   1080\u001b[0m \u001b[43m    \u001b[49m\u001b[43m)\u001b[49m\n\u001b[1;32m   1082\u001b[0m batch_size \u001b[38;5;241m=\u001b[39m _get_batch_size(input_ids, inputs_embeds)\n\u001b[1;32m   1083\u001b[0m \u001b[38;5;28;01mif\u001b[39;00m attention_mask \u001b[38;5;129;01mis\u001b[39;00m \u001b[38;5;129;01mnot\u001b[39;00m \u001b[38;5;28;01mNone\u001b[39;00m:\n\u001b[1;32m   1084\u001b[0m     \u001b[38;5;66;03m# concat prompt attention mask\u001b[39;00m\n",
      "File \u001b[0;32m~/anaconda3/envs/chatgpt/lib/python3.8/site-packages/torch/nn/modules/module.py:1518\u001b[0m, in \u001b[0;36mModule._wrapped_call_impl\u001b[0;34m(self, *args, **kwargs)\u001b[0m\n\u001b[1;32m   1516\u001b[0m     \u001b[38;5;28;01mreturn\u001b[39;00m \u001b[38;5;28mself\u001b[39m\u001b[38;5;241m.\u001b[39m_compiled_call_impl(\u001b[38;5;241m*\u001b[39margs, \u001b[38;5;241m*\u001b[39m\u001b[38;5;241m*\u001b[39mkwargs)  \u001b[38;5;66;03m# type: ignore[misc]\u001b[39;00m\n\u001b[1;32m   1517\u001b[0m \u001b[38;5;28;01melse\u001b[39;00m:\n\u001b[0;32m-> 1518\u001b[0m     \u001b[38;5;28;01mreturn\u001b[39;00m \u001b[38;5;28;43mself\u001b[39;49m\u001b[38;5;241;43m.\u001b[39;49m\u001b[43m_call_impl\u001b[49m\u001b[43m(\u001b[49m\u001b[38;5;241;43m*\u001b[39;49m\u001b[43margs\u001b[49m\u001b[43m,\u001b[49m\u001b[43m \u001b[49m\u001b[38;5;241;43m*\u001b[39;49m\u001b[38;5;241;43m*\u001b[39;49m\u001b[43mkwargs\u001b[49m\u001b[43m)\u001b[49m\n",
      "File \u001b[0;32m~/anaconda3/envs/chatgpt/lib/python3.8/site-packages/torch/nn/modules/module.py:1527\u001b[0m, in \u001b[0;36mModule._call_impl\u001b[0;34m(self, *args, **kwargs)\u001b[0m\n\u001b[1;32m   1522\u001b[0m \u001b[38;5;66;03m# If we don't have any hooks, we want to skip the rest of the logic in\u001b[39;00m\n\u001b[1;32m   1523\u001b[0m \u001b[38;5;66;03m# this function, and just call forward.\u001b[39;00m\n\u001b[1;32m   1524\u001b[0m \u001b[38;5;28;01mif\u001b[39;00m \u001b[38;5;129;01mnot\u001b[39;00m (\u001b[38;5;28mself\u001b[39m\u001b[38;5;241m.\u001b[39m_backward_hooks \u001b[38;5;129;01mor\u001b[39;00m \u001b[38;5;28mself\u001b[39m\u001b[38;5;241m.\u001b[39m_backward_pre_hooks \u001b[38;5;129;01mor\u001b[39;00m \u001b[38;5;28mself\u001b[39m\u001b[38;5;241m.\u001b[39m_forward_hooks \u001b[38;5;129;01mor\u001b[39;00m \u001b[38;5;28mself\u001b[39m\u001b[38;5;241m.\u001b[39m_forward_pre_hooks\n\u001b[1;32m   1525\u001b[0m         \u001b[38;5;129;01mor\u001b[39;00m _global_backward_pre_hooks \u001b[38;5;129;01mor\u001b[39;00m _global_backward_hooks\n\u001b[1;32m   1526\u001b[0m         \u001b[38;5;129;01mor\u001b[39;00m _global_forward_hooks \u001b[38;5;129;01mor\u001b[39;00m _global_forward_pre_hooks):\n\u001b[0;32m-> 1527\u001b[0m     \u001b[38;5;28;01mreturn\u001b[39;00m \u001b[43mforward_call\u001b[49m\u001b[43m(\u001b[49m\u001b[38;5;241;43m*\u001b[39;49m\u001b[43margs\u001b[49m\u001b[43m,\u001b[49m\u001b[43m \u001b[49m\u001b[38;5;241;43m*\u001b[39;49m\u001b[38;5;241;43m*\u001b[39;49m\u001b[43mkwargs\u001b[49m\u001b[43m)\u001b[49m\n\u001b[1;32m   1529\u001b[0m \u001b[38;5;28;01mtry\u001b[39;00m:\n\u001b[1;32m   1530\u001b[0m     result \u001b[38;5;241m=\u001b[39m \u001b[38;5;28;01mNone\u001b[39;00m\n",
      "File \u001b[0;32m~/anaconda3/envs/chatgpt/lib/python3.8/site-packages/peft/tuners/tuners_utils.py:108\u001b[0m, in \u001b[0;36mBaseTuner.forward\u001b[0;34m(self, *args, **kwargs)\u001b[0m\n\u001b[1;32m    107\u001b[0m \u001b[38;5;28;01mdef\u001b[39;00m \u001b[38;5;21mforward\u001b[39m(\u001b[38;5;28mself\u001b[39m, \u001b[38;5;241m*\u001b[39margs: Any, \u001b[38;5;241m*\u001b[39m\u001b[38;5;241m*\u001b[39mkwargs: Any):\n\u001b[0;32m--> 108\u001b[0m     \u001b[38;5;28;01mreturn\u001b[39;00m \u001b[38;5;28;43mself\u001b[39;49m\u001b[38;5;241;43m.\u001b[39;49m\u001b[43mmodel\u001b[49m\u001b[38;5;241;43m.\u001b[39;49m\u001b[43mforward\u001b[49m\u001b[43m(\u001b[49m\u001b[38;5;241;43m*\u001b[39;49m\u001b[43margs\u001b[49m\u001b[43m,\u001b[49m\u001b[43m \u001b[49m\u001b[38;5;241;43m*\u001b[39;49m\u001b[38;5;241;43m*\u001b[39;49m\u001b[43mkwargs\u001b[49m\u001b[43m)\u001b[49m\n",
      "File \u001b[0;32m~/anaconda3/envs/chatgpt/lib/python3.8/site-packages/accelerate/hooks.py:164\u001b[0m, in \u001b[0;36madd_hook_to_module.<locals>.new_forward\u001b[0;34m(module, *args, **kwargs)\u001b[0m\n\u001b[1;32m    162\u001b[0m         output \u001b[38;5;241m=\u001b[39m module\u001b[38;5;241m.\u001b[39m_old_forward(\u001b[38;5;241m*\u001b[39margs, \u001b[38;5;241m*\u001b[39m\u001b[38;5;241m*\u001b[39mkwargs)\n\u001b[1;32m    163\u001b[0m \u001b[38;5;28;01melse\u001b[39;00m:\n\u001b[0;32m--> 164\u001b[0m     output \u001b[38;5;241m=\u001b[39m \u001b[43mmodule\u001b[49m\u001b[38;5;241;43m.\u001b[39;49m\u001b[43m_old_forward\u001b[49m\u001b[43m(\u001b[49m\u001b[38;5;241;43m*\u001b[39;49m\u001b[43margs\u001b[49m\u001b[43m,\u001b[49m\u001b[43m \u001b[49m\u001b[38;5;241;43m*\u001b[39;49m\u001b[38;5;241;43m*\u001b[39;49m\u001b[43mkwargs\u001b[49m\u001b[43m)\u001b[49m\n\u001b[1;32m    165\u001b[0m \u001b[38;5;28;01mreturn\u001b[39;00m module\u001b[38;5;241m.\u001b[39m_hf_hook\u001b[38;5;241m.\u001b[39mpost_forward(module, output)\n",
      "File \u001b[0;32m~/anaconda3/envs/chatgpt/lib/python3.8/site-packages/transformers/models/llama/modeling_llama.py:1066\u001b[0m, in \u001b[0;36mLlamaForCausalLM.forward\u001b[0;34m(self, input_ids, attention_mask, position_ids, past_key_values, inputs_embeds, labels, use_cache, output_attentions, output_hidden_states, return_dict)\u001b[0m\n\u001b[1;32m   1064\u001b[0m     \u001b[38;5;66;03m# Enable model parallelism\u001b[39;00m\n\u001b[1;32m   1065\u001b[0m     shift_labels \u001b[38;5;241m=\u001b[39m shift_labels\u001b[38;5;241m.\u001b[39mto(shift_logits\u001b[38;5;241m.\u001b[39mdevice)\n\u001b[0;32m-> 1066\u001b[0m     loss \u001b[38;5;241m=\u001b[39m \u001b[43mloss_fct\u001b[49m\u001b[43m(\u001b[49m\u001b[43mshift_logits\u001b[49m\u001b[43m,\u001b[49m\u001b[43m \u001b[49m\u001b[43mshift_labels\u001b[49m\u001b[43m)\u001b[49m\n\u001b[1;32m   1068\u001b[0m \u001b[38;5;28;01mif\u001b[39;00m \u001b[38;5;129;01mnot\u001b[39;00m return_dict:\n\u001b[1;32m   1069\u001b[0m     output \u001b[38;5;241m=\u001b[39m (logits,) \u001b[38;5;241m+\u001b[39m outputs[\u001b[38;5;241m1\u001b[39m:]\n",
      "File \u001b[0;32m~/anaconda3/envs/chatgpt/lib/python3.8/site-packages/torch/nn/modules/module.py:1518\u001b[0m, in \u001b[0;36mModule._wrapped_call_impl\u001b[0;34m(self, *args, **kwargs)\u001b[0m\n\u001b[1;32m   1516\u001b[0m     \u001b[38;5;28;01mreturn\u001b[39;00m \u001b[38;5;28mself\u001b[39m\u001b[38;5;241m.\u001b[39m_compiled_call_impl(\u001b[38;5;241m*\u001b[39margs, \u001b[38;5;241m*\u001b[39m\u001b[38;5;241m*\u001b[39mkwargs)  \u001b[38;5;66;03m# type: ignore[misc]\u001b[39;00m\n\u001b[1;32m   1517\u001b[0m \u001b[38;5;28;01melse\u001b[39;00m:\n\u001b[0;32m-> 1518\u001b[0m     \u001b[38;5;28;01mreturn\u001b[39;00m \u001b[38;5;28;43mself\u001b[39;49m\u001b[38;5;241;43m.\u001b[39;49m\u001b[43m_call_impl\u001b[49m\u001b[43m(\u001b[49m\u001b[38;5;241;43m*\u001b[39;49m\u001b[43margs\u001b[49m\u001b[43m,\u001b[49m\u001b[43m \u001b[49m\u001b[38;5;241;43m*\u001b[39;49m\u001b[38;5;241;43m*\u001b[39;49m\u001b[43mkwargs\u001b[49m\u001b[43m)\u001b[49m\n",
      "File \u001b[0;32m~/anaconda3/envs/chatgpt/lib/python3.8/site-packages/torch/nn/modules/module.py:1527\u001b[0m, in \u001b[0;36mModule._call_impl\u001b[0;34m(self, *args, **kwargs)\u001b[0m\n\u001b[1;32m   1522\u001b[0m \u001b[38;5;66;03m# If we don't have any hooks, we want to skip the rest of the logic in\u001b[39;00m\n\u001b[1;32m   1523\u001b[0m \u001b[38;5;66;03m# this function, and just call forward.\u001b[39;00m\n\u001b[1;32m   1524\u001b[0m \u001b[38;5;28;01mif\u001b[39;00m \u001b[38;5;129;01mnot\u001b[39;00m (\u001b[38;5;28mself\u001b[39m\u001b[38;5;241m.\u001b[39m_backward_hooks \u001b[38;5;129;01mor\u001b[39;00m \u001b[38;5;28mself\u001b[39m\u001b[38;5;241m.\u001b[39m_backward_pre_hooks \u001b[38;5;129;01mor\u001b[39;00m \u001b[38;5;28mself\u001b[39m\u001b[38;5;241m.\u001b[39m_forward_hooks \u001b[38;5;129;01mor\u001b[39;00m \u001b[38;5;28mself\u001b[39m\u001b[38;5;241m.\u001b[39m_forward_pre_hooks\n\u001b[1;32m   1525\u001b[0m         \u001b[38;5;129;01mor\u001b[39;00m _global_backward_pre_hooks \u001b[38;5;129;01mor\u001b[39;00m _global_backward_hooks\n\u001b[1;32m   1526\u001b[0m         \u001b[38;5;129;01mor\u001b[39;00m _global_forward_hooks \u001b[38;5;129;01mor\u001b[39;00m _global_forward_pre_hooks):\n\u001b[0;32m-> 1527\u001b[0m     \u001b[38;5;28;01mreturn\u001b[39;00m \u001b[43mforward_call\u001b[49m\u001b[43m(\u001b[49m\u001b[38;5;241;43m*\u001b[39;49m\u001b[43margs\u001b[49m\u001b[43m,\u001b[49m\u001b[43m \u001b[49m\u001b[38;5;241;43m*\u001b[39;49m\u001b[38;5;241;43m*\u001b[39;49m\u001b[43mkwargs\u001b[49m\u001b[43m)\u001b[49m\n\u001b[1;32m   1529\u001b[0m \u001b[38;5;28;01mtry\u001b[39;00m:\n\u001b[1;32m   1530\u001b[0m     result \u001b[38;5;241m=\u001b[39m \u001b[38;5;28;01mNone\u001b[39;00m\n",
      "File \u001b[0;32m~/anaconda3/envs/chatgpt/lib/python3.8/site-packages/torch/nn/modules/loss.py:1179\u001b[0m, in \u001b[0;36mCrossEntropyLoss.forward\u001b[0;34m(self, input, target)\u001b[0m\n\u001b[1;32m   1178\u001b[0m \u001b[38;5;28;01mdef\u001b[39;00m \u001b[38;5;21mforward\u001b[39m(\u001b[38;5;28mself\u001b[39m, \u001b[38;5;28minput\u001b[39m: Tensor, target: Tensor) \u001b[38;5;241m-\u001b[39m\u001b[38;5;241m>\u001b[39m Tensor:\n\u001b[0;32m-> 1179\u001b[0m     \u001b[38;5;28;01mreturn\u001b[39;00m \u001b[43mF\u001b[49m\u001b[38;5;241;43m.\u001b[39;49m\u001b[43mcross_entropy\u001b[49m\u001b[43m(\u001b[49m\u001b[38;5;28;43minput\u001b[39;49m\u001b[43m,\u001b[49m\u001b[43m \u001b[49m\u001b[43mtarget\u001b[49m\u001b[43m,\u001b[49m\u001b[43m \u001b[49m\u001b[43mweight\u001b[49m\u001b[38;5;241;43m=\u001b[39;49m\u001b[38;5;28;43mself\u001b[39;49m\u001b[38;5;241;43m.\u001b[39;49m\u001b[43mweight\u001b[49m\u001b[43m,\u001b[49m\n\u001b[1;32m   1180\u001b[0m \u001b[43m                           \u001b[49m\u001b[43mignore_index\u001b[49m\u001b[38;5;241;43m=\u001b[39;49m\u001b[38;5;28;43mself\u001b[39;49m\u001b[38;5;241;43m.\u001b[39;49m\u001b[43mignore_index\u001b[49m\u001b[43m,\u001b[49m\u001b[43m \u001b[49m\u001b[43mreduction\u001b[49m\u001b[38;5;241;43m=\u001b[39;49m\u001b[38;5;28;43mself\u001b[39;49m\u001b[38;5;241;43m.\u001b[39;49m\u001b[43mreduction\u001b[49m\u001b[43m,\u001b[49m\n\u001b[1;32m   1181\u001b[0m \u001b[43m                           \u001b[49m\u001b[43mlabel_smoothing\u001b[49m\u001b[38;5;241;43m=\u001b[39;49m\u001b[38;5;28;43mself\u001b[39;49m\u001b[38;5;241;43m.\u001b[39;49m\u001b[43mlabel_smoothing\u001b[49m\u001b[43m)\u001b[49m\n",
      "File \u001b[0;32m~/anaconda3/envs/chatgpt/lib/python3.8/site-packages/torch/nn/functional.py:3053\u001b[0m, in \u001b[0;36mcross_entropy\u001b[0;34m(input, target, weight, size_average, ignore_index, reduce, reduction, label_smoothing)\u001b[0m\n\u001b[1;32m   3051\u001b[0m \u001b[38;5;28;01mif\u001b[39;00m size_average \u001b[38;5;129;01mis\u001b[39;00m \u001b[38;5;129;01mnot\u001b[39;00m \u001b[38;5;28;01mNone\u001b[39;00m \u001b[38;5;129;01mor\u001b[39;00m reduce \u001b[38;5;129;01mis\u001b[39;00m \u001b[38;5;129;01mnot\u001b[39;00m \u001b[38;5;28;01mNone\u001b[39;00m:\n\u001b[1;32m   3052\u001b[0m     reduction \u001b[38;5;241m=\u001b[39m _Reduction\u001b[38;5;241m.\u001b[39mlegacy_get_string(size_average, reduce)\n\u001b[0;32m-> 3053\u001b[0m \u001b[38;5;28;01mreturn\u001b[39;00m \u001b[43mtorch\u001b[49m\u001b[38;5;241;43m.\u001b[39;49m\u001b[43m_C\u001b[49m\u001b[38;5;241;43m.\u001b[39;49m\u001b[43m_nn\u001b[49m\u001b[38;5;241;43m.\u001b[39;49m\u001b[43mcross_entropy_loss\u001b[49m\u001b[43m(\u001b[49m\u001b[38;5;28;43minput\u001b[39;49m\u001b[43m,\u001b[49m\u001b[43m \u001b[49m\u001b[43mtarget\u001b[49m\u001b[43m,\u001b[49m\u001b[43m \u001b[49m\u001b[43mweight\u001b[49m\u001b[43m,\u001b[49m\u001b[43m \u001b[49m\u001b[43m_Reduction\u001b[49m\u001b[38;5;241;43m.\u001b[39;49m\u001b[43mget_enum\u001b[49m\u001b[43m(\u001b[49m\u001b[43mreduction\u001b[49m\u001b[43m)\u001b[49m\u001b[43m,\u001b[49m\u001b[43m \u001b[49m\u001b[43mignore_index\u001b[49m\u001b[43m,\u001b[49m\u001b[43m \u001b[49m\u001b[43mlabel_smoothing\u001b[49m\u001b[43m)\u001b[49m\n",
      "\u001b[0;31mValueError\u001b[0m: Expected input batch_size (376) to match target batch_size (248)."
     ]
    }
   ],
   "source": [
    "trainer = Seq2SeqTrainer(\n",
    "    model=model,\n",
    "    args=training_args,\n",
    "    train_dataset=train_data[\"train\"],\n",
    "    eval_dataset=train_data[\"test\"],\n",
    "    tokenizer=tokenizer,\n",
    "    data_collator=data_collator,\n",
    ")\n",
    "\n",
    "trainer.train()"
   ]
  },
  {
   "cell_type": "code",
   "execution_count": null,
   "id": "3cd1b24c-8159-420a-bf20-164d9e531701",
   "metadata": {},
   "outputs": [],
   "source": [
    "model"
   ]
  },
  {
   "cell_type": "markdown",
   "id": "370775cc-b658-4e45-90ee-e53959d5688c",
   "metadata": {
    "tags": []
   },
   "source": [
    "## Inference"
   ]
  },
  {
   "cell_type": "code",
   "execution_count": 40,
   "id": "55c24e3d-b452-4901-8ef6-acddfb6d995d",
   "metadata": {
    "tags": []
   },
   "outputs": [],
   "source": [
    "model = AutoModelForSeq2SeqLM.from_pretrained(\"google/mt5-base\", load_in_8bit=True, device_map=\"auto\")"
   ]
  },
  {
   "cell_type": "code",
   "execution_count": 41,
   "id": "a6554ca1-3583-4211-93bd-f7d1455d931b",
   "metadata": {},
   "outputs": [],
   "source": [
    "peft_model_id = './lora_T5_address_model/checkpoint-1510'"
   ]
  },
  {
   "cell_type": "code",
   "execution_count": 42,
   "id": "52e5db5b-68e0-4d53-aa7f-ee1871421893",
   "metadata": {},
   "outputs": [],
   "source": [
    "peft_model = PeftModel.from_pretrained(model, peft_model_id)"
   ]
  },
  {
   "cell_type": "markdown",
   "id": "99e67a7b-291f-42a0-b047-d398c901c9df",
   "metadata": {
    "tags": []
   },
   "source": [
    "### Test "
   ]
  },
  {
   "cell_type": "code",
   "execution_count": 60,
   "id": "bc2c1000-4195-4a1a-b960-5a357ba9abd1",
   "metadata": {},
   "outputs": [
    {
     "data": {
      "text/plain": [
       "'1/4L đường 74 Phường Phước Long A Thành hố Thủ Đchàhphố Hồ Chí Minh'"
      ]
     },
     "execution_count": 60,
     "metadata": {},
     "output_type": "execute_result"
    }
   ],
   "source": [
    "idx = 4\n",
    "test_df.iloc[idx]['mistake_address']"
   ]
  },
  {
   "cell_type": "code",
   "execution_count": 61,
   "id": "14d733d5-d3f7-4652-bf18-024def42c144",
   "metadata": {
    "tags": []
   },
   "outputs": [
    {
     "data": {
      "text/plain": [
       "{'input_ids': tensor([[30981,   547,   355,  2241, 11158,  2879,  2241,  2879,  8195,  5950,\n",
       "           298,   259, 26902,   382,  1263,  1516,   708,   977,   697,   369,\n",
       "           334,  6734,  1263,   447,  2434,  1536,   420, 14098,     1]]), 'attention_mask': tensor([[1, 1, 1, 1, 1, 1, 1, 1, 1, 1, 1, 1, 1, 1, 1, 1, 1, 1, 1, 1, 1, 1, 1, 1,\n",
       "         1, 1, 1, 1, 1]])}"
      ]
     },
     "execution_count": 61,
     "metadata": {},
     "output_type": "execute_result"
    }
   ],
   "source": [
    "t = test_df.iloc[idx]['mistake_address']\n",
    "b = tokenizer(t, return_tensors='pt')\n",
    "b"
   ]
  },
  {
   "cell_type": "code",
   "execution_count": 62,
   "id": "34df80a1-ea47-405e-ace9-f8127bb1530d",
   "metadata": {
    "tags": []
   },
   "outputs": [
    {
     "data": {
      "text/plain": [
       "tensor([[     0, 250099,   2879,   8195,   5950,    261,    447,   2434,   1536,\n",
       "            420,  14098,    261,      1]], device='cuda:0')"
      ]
     },
     "execution_count": 62,
     "metadata": {},
     "output_type": "execute_result"
    }
   ],
   "source": [
    "outputs = model.generate(\n",
    "      input_ids=b['input_ids'].to('cuda'),\n",
    "      max_length=256,\n",
    "      attention_mask=b['attention_mask'].to('cuda'),\n",
    "  )\n",
    "outputs"
   ]
  },
  {
   "cell_type": "code",
   "execution_count": 63,
   "id": "0c6c29af-2c85-4598-bb58-cf8beb0745a0",
   "metadata": {
    "tags": []
   },
   "outputs": [
    {
     "data": {
      "text/plain": [
       "'<extra_id_0> Phước Long, Hồ Chí Minh,'"
      ]
     },
     "execution_count": 63,
     "metadata": {},
     "output_type": "execute_result"
    }
   ],
   "source": [
    "tokenizer.decode(outputs[0], skip_special_tokens=True)"
   ]
  },
  {
   "cell_type": "markdown",
   "id": "9f0666ed-0dc0-406a-86ca-da09ad515e2d",
   "metadata": {
    "tags": []
   },
   "source": [
    "### Eval metrics"
   ]
  },
  {
   "cell_type": "code",
   "execution_count": 52,
   "id": "409e71cb-e4fc-427c-84ba-f5a7fa18de80",
   "metadata": {
    "tags": []
   },
   "outputs": [],
   "source": [
    "data_collator = DataCollatorForSeq2Seq(tokenizer, model=model, return_tensors=\"pt\")"
   ]
  },
  {
   "cell_type": "code",
   "execution_count": 57,
   "id": "1d115eb4-8da6-4cc4-8b1e-98d584710793",
   "metadata": {
    "tags": []
   },
   "outputs": [
    {
     "data": {
      "text/plain": [
       "{'rouge1': 0.23835126750408075,\n",
       " 'rouge2': 0.14379510590522415,\n",
       " 'rougeL': 0.2161130252997705,\n",
       " 'rougeLsum': 0.21546445876754589}"
      ]
     },
     "execution_count": 57,
     "metadata": {},
     "output_type": "execute_result"
    }
   ],
   "source": [
    "import tqdm\n",
    "import torch \n",
    "import numpy as np\n",
    "metrics = rouge\n",
    "\n",
    "max_target_length = 256\n",
    "dataloader = torch.utils.data.DataLoader(test_data, collate_fn=data_collator, batch_size=32)\n",
    "\n",
    "predictions = []\n",
    "references = []\n",
    "for i, batch in enumerate(dataloader):\n",
    "  outputs = model.generate(\n",
    "      input_ids=batch['input_ids'].to('cuda'),\n",
    "      max_length=max_target_length,\n",
    "      attention_mask=batch['attention_mask'].to('cuda'),\n",
    "  )\n",
    "  outputs = [tokenizer.decode(out, clean_up_tokenization_spaces=False, skip_special_tokens=True) for out in outputs]\n",
    "\n",
    "  labels = np.where(batch['labels'] != -100,  batch['labels'], tokenizer.pad_token_id)\n",
    "  actuals = [tokenizer.decode(out, clean_up_tokenization_spaces=False, skip_special_tokens=True) for out in labels]\n",
    "  predictions.extend(outputs)\n",
    "  references.extend(actuals)\n",
    "  metrics.add_batch(predictions=outputs, references=actuals)\n",
    "\n",
    "\n",
    "metrics.compute()"
   ]
  },
  {
   "cell_type": "code",
   "execution_count": 26,
   "id": "f2873f01-6ffe-4fef-be54-e50813fd251a",
   "metadata": {
    "tags": []
   },
   "outputs": [
    {
     "data": {
      "text/plain": [
       "5341"
      ]
     },
     "execution_count": 26,
     "metadata": {},
     "output_type": "execute_result"
    }
   ],
   "source": [
    "correct = 0\n",
    "correct += sum(o==a for o, a in zip(predictions, references))\n",
    "correct"
   ]
  },
  {
   "cell_type": "code",
   "execution_count": 27,
   "id": "3c3487f8-1c09-4524-98af-0de00cf46053",
   "metadata": {
    "tags": []
   },
   "outputs": [
    {
     "data": {
      "text/plain": [
       "0.9945996275605214"
      ]
     },
     "execution_count": 27,
     "metadata": {},
     "output_type": "execute_result"
    }
   ],
   "source": [
    "correct/ len(predictions)"
   ]
  },
  {
   "cell_type": "code",
   "execution_count": 28,
   "id": "c1888f79-ee5d-4932-be10-b4306c00e625",
   "metadata": {
    "tags": []
   },
   "outputs": [
    {
     "data": {
      "text/plain": [
       "'nguyễn văn tiến'"
      ]
     },
     "execution_count": 28,
     "metadata": {},
     "output_type": "execute_result"
    }
   ],
   "source": [
    "predictions[0]"
   ]
  },
  {
   "cell_type": "code",
   "execution_count": 29,
   "id": "e90c77fc-664c-44e8-857e-1b16eb7ce516",
   "metadata": {
    "tags": []
   },
   "outputs": [
    {
     "data": {
      "text/plain": [
       "'nguyễn văn tiến'"
      ]
     },
     "execution_count": 29,
     "metadata": {},
     "output_type": "execute_result"
    }
   ],
   "source": [
    "references[0]"
   ]
  },
  {
   "cell_type": "code",
   "execution_count": 30,
   "id": "71cec75a-de54-4d82-a4a8-c455d25ff749",
   "metadata": {
    "tags": []
   },
   "outputs": [],
   "source": [
    "a= next(iter(dataloader))"
   ]
  },
  {
   "cell_type": "code",
   "execution_count": 31,
   "id": "5c92be36-98b7-406d-ac84-5fc81bdd2113",
   "metadata": {
    "tags": []
   },
   "outputs": [
    {
     "data": {
      "text/plain": [
       "'nguyễn văn tiến thì dạ bên không cho'"
      ]
     },
     "execution_count": 31,
     "metadata": {},
     "output_type": "execute_result"
    }
   ],
   "source": [
    "tokenizer.decode(a['input_ids'][0], skip_special_tokens=True)"
   ]
  }
 ],
 "metadata": {
  "kernelspec": {
   "display_name": "chatgpt-env",
   "language": "python",
   "name": "chatgpt"
  },
  "language_info": {
   "codemirror_mode": {
    "name": "ipython",
    "version": 3
   },
   "file_extension": ".py",
   "mimetype": "text/x-python",
   "name": "python",
   "nbconvert_exporter": "python",
   "pygments_lexer": "ipython3",
   "version": "3.8.18"
  }
 },
 "nbformat": 4,
 "nbformat_minor": 5
}
