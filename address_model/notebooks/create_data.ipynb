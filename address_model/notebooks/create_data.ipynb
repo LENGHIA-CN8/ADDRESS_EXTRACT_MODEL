{
 "cells": [
  {
   "cell_type": "code",
   "execution_count": 1,
   "id": "6406883a-258f-472d-9781-e7b4aa898484",
   "metadata": {},
   "outputs": [
    {
     "name": "stderr",
     "output_type": "stream",
     "text": [
      "/tmp/ipykernel_3327572/3770760702.py:5: TqdmDeprecationWarning: This function will be removed in tqdm==5.0.0\n",
      "Please use `tqdm.notebook.*` instead of `tqdm._tqdm_notebook.*`\n",
      "  from tqdm._tqdm_notebook import tqdm_notebook\n"
     ]
    }
   ],
   "source": [
    "import re\n",
    "import pandas as pd\n",
    "from tqdm import tqdm\n",
    "from tqdm import tqdm_notebook\n",
    "from tqdm._tqdm_notebook import tqdm_notebook\n",
    "tqdm_notebook.pandas()"
   ]
  },
  {
   "cell_type": "code",
   "execution_count": 2,
   "id": "6f8bbca6-2aaf-4577-ad31-57b593680794",
   "metadata": {},
   "outputs": [
    {
     "name": "stdout",
     "output_type": "stream",
     "text": [
      "An unexpected error occurred: [Errno 2] No such file or directory: './data/cty_address_au.json'\n"
     ]
    }
   ],
   "source": [
    "import json\n",
    "\n",
    "file_path = './data/cty_address_au.json'\n",
    "list_add = []\n",
    "try:\n",
    "    with open(file_path) as f:\n",
    "        for line in f:\n",
    "            d = json.loads(line)\n",
    "            list_add.append(d)\n",
    "except json.JSONDecodeError as e:\n",
    "    print(f\"Error decoding JSON: {e}\")\n",
    "except Exception as e:\n",
    "    print(f\"An unexpected error occurred: {e}\")"
   ]
  },
  {
   "cell_type": "code",
   "execution_count": 7,
   "id": "7e6f4577-4730-4f86-a53b-06ed1754992b",
   "metadata": {},
   "outputs": [],
   "source": [
    "list_add_1 = []\n",
    "with open('../data/vi_au_123level.json') as f:\n",
    "    for line in f:\n",
    "        d = json.loads(line)\n",
    "        list_add_1.append(d)"
   ]
  },
  {
   "cell_type": "code",
   "execution_count": 11,
   "id": "af9b6ea7-9923-4ad7-8452-ebb9a6e5d964",
   "metadata": {},
   "outputs": [
    {
     "data": {
      "text/plain": [
       "[{'id': '00004', 'name': 'Trúc Bạch', 'level': 'Xã', 'prefix': 'Phường'},\n",
       " {'id': '001', 'name': 'Ba Đình', 'level': 'Huyện', 'prefix': 'Quận'},\n",
       " {'id': '01', 'name': 'Hà Nội', 'level': 'Tỉnh', 'prefix': 'Thành phố'}]"
      ]
     },
     "execution_count": 11,
     "metadata": {},
     "output_type": "execute_result"
    }
   ],
   "source": [
    "list_add_1[3]"
   ]
  },
  {
   "cell_type": "code",
   "execution_count": 70,
   "id": "6da1272a-d294-4085-ac47-565f58cc8f84",
   "metadata": {},
   "outputs": [],
   "source": [
    "list_add_1 = []\n",
    "with open('./data/vi_au_123level.json') as f:\n",
    "    for line in f:\n",
    "        d = json.loads(line)\n",
    "        list_add_1.append({\"input_address\": ', '.join([i['prefix'] + ' ' + i['name'] for i in d])})"
   ]
  },
  {
   "cell_type": "code",
   "execution_count": 73,
   "id": "ad8119ba-289b-45cc-a38a-cc736804d46d",
   "metadata": {},
   "outputs": [],
   "source": [
    "data_df_1 = pd.DataFrame(list_add_1)"
   ]
  },
  {
   "cell_type": "code",
   "execution_count": 75,
   "id": "39de6d55-ff2a-4eb0-b6e7-a663c9405378",
   "metadata": {},
   "outputs": [
    {
     "data": {
      "text/html": [
       "<div>\n",
       "<style scoped>\n",
       "    .dataframe tbody tr th:only-of-type {\n",
       "        vertical-align: middle;\n",
       "    }\n",
       "\n",
       "    .dataframe tbody tr th {\n",
       "        vertical-align: top;\n",
       "    }\n",
       "\n",
       "    .dataframe thead th {\n",
       "        text-align: right;\n",
       "    }\n",
       "</style>\n",
       "<table border=\"1\" class=\"dataframe\">\n",
       "  <thead>\n",
       "    <tr style=\"text-align: right;\">\n",
       "      <th></th>\n",
       "      <th>input_address</th>\n",
       "      <th>filter_address</th>\n",
       "    </tr>\n",
       "  </thead>\n",
       "  <tbody>\n",
       "    <tr>\n",
       "      <th>0</th>\n",
       "      <td>Thành phố Hà Nội</td>\n",
       "      <td>Thành phố Hà Nội</td>\n",
       "    </tr>\n",
       "    <tr>\n",
       "      <th>1</th>\n",
       "      <td>Quận Ba Đình, Thành phố Hà Nội</td>\n",
       "      <td>Quận Ba Đình, Thành phố Hà Nội</td>\n",
       "    </tr>\n",
       "    <tr>\n",
       "      <th>2</th>\n",
       "      <td>Phường Phúc Xá, Quận Ba Đình, Thành phố Hà Nội</td>\n",
       "      <td>Phường Phúc Xá, Quận Ba Đình, Thành phố Hà Nội</td>\n",
       "    </tr>\n",
       "    <tr>\n",
       "      <th>3</th>\n",
       "      <td>Phường Trúc Bạch, Quận Ba Đình, Thành phố Hà Nội</td>\n",
       "      <td>Phường Trúc Bạch, Quận Ba Đình, Thành phố Hà Nội</td>\n",
       "    </tr>\n",
       "    <tr>\n",
       "      <th>4</th>\n",
       "      <td>Phường Vĩnh Phúc, Quận Ba Đình, Thành phố Hà Nội</td>\n",
       "      <td>Phường Vĩnh Phúc, Quận Ba Đình, Thành phố Hà Nội</td>\n",
       "    </tr>\n",
       "    <tr>\n",
       "      <th>...</th>\n",
       "      <td>...</td>\n",
       "      <td>...</td>\n",
       "    </tr>\n",
       "    <tr>\n",
       "      <th>11379</th>\n",
       "      <td>Xã Viên An Đông, Huyện Ngọc Hiển, Tỉnh Cà Mau</td>\n",
       "      <td>Xã Viên An Đông, Huyện Ngọc Hiển, Tỉnh Cà Mau</td>\n",
       "    </tr>\n",
       "    <tr>\n",
       "      <th>11380</th>\n",
       "      <td>Xã Viên An, Huyện Ngọc Hiển, Tỉnh Cà Mau</td>\n",
       "      <td>Xã Viên An, Huyện Ngọc Hiển, Tỉnh Cà Mau</td>\n",
       "    </tr>\n",
       "    <tr>\n",
       "      <th>11381</th>\n",
       "      <td>Thị trấn Rạch Gốc, Huyện Ngọc Hiển, Tỉnh Cà Mau</td>\n",
       "      <td>Thị trấn Rạch Gốc, Huyện Ngọc Hiển, Tỉnh Cà Mau</td>\n",
       "    </tr>\n",
       "    <tr>\n",
       "      <th>11382</th>\n",
       "      <td>Xã Tân Ân, Huyện Ngọc Hiển, Tỉnh Cà Mau</td>\n",
       "      <td>Xã Tân Ân, Huyện Ngọc Hiển, Tỉnh Cà Mau</td>\n",
       "    </tr>\n",
       "    <tr>\n",
       "      <th>11383</th>\n",
       "      <td>Xã Đất Mũi, Huyện Ngọc Hiển, Tỉnh Cà Mau</td>\n",
       "      <td>Xã Đất Mũi, Huyện Ngọc Hiển, Tỉnh Cà Mau</td>\n",
       "    </tr>\n",
       "  </tbody>\n",
       "</table>\n",
       "<p>11384 rows × 2 columns</p>\n",
       "</div>"
      ],
      "text/plain": [
       "                                          input_address  \\\n",
       "0                                      Thành phố Hà Nội   \n",
       "1                        Quận Ba Đình, Thành phố Hà Nội   \n",
       "2        Phường Phúc Xá, Quận Ba Đình, Thành phố Hà Nội   \n",
       "3      Phường Trúc Bạch, Quận Ba Đình, Thành phố Hà Nội   \n",
       "4      Phường Vĩnh Phúc, Quận Ba Đình, Thành phố Hà Nội   \n",
       "...                                                 ...   \n",
       "11379     Xã Viên An Đông, Huyện Ngọc Hiển, Tỉnh Cà Mau   \n",
       "11380          Xã Viên An, Huyện Ngọc Hiển, Tỉnh Cà Mau   \n",
       "11381   Thị trấn Rạch Gốc, Huyện Ngọc Hiển, Tỉnh Cà Mau   \n",
       "11382           Xã Tân Ân, Huyện Ngọc Hiển, Tỉnh Cà Mau   \n",
       "11383          Xã Đất Mũi, Huyện Ngọc Hiển, Tỉnh Cà Mau   \n",
       "\n",
       "                                         filter_address  \n",
       "0                                      Thành phố Hà Nội  \n",
       "1                        Quận Ba Đình, Thành phố Hà Nội  \n",
       "2        Phường Phúc Xá, Quận Ba Đình, Thành phố Hà Nội  \n",
       "3      Phường Trúc Bạch, Quận Ba Đình, Thành phố Hà Nội  \n",
       "4      Phường Vĩnh Phúc, Quận Ba Đình, Thành phố Hà Nội  \n",
       "...                                                 ...  \n",
       "11379     Xã Viên An Đông, Huyện Ngọc Hiển, Tỉnh Cà Mau  \n",
       "11380          Xã Viên An, Huyện Ngọc Hiển, Tỉnh Cà Mau  \n",
       "11381   Thị trấn Rạch Gốc, Huyện Ngọc Hiển, Tỉnh Cà Mau  \n",
       "11382           Xã Tân Ân, Huyện Ngọc Hiển, Tỉnh Cà Mau  \n",
       "11383          Xã Đất Mũi, Huyện Ngọc Hiển, Tỉnh Cà Mau  \n",
       "\n",
       "[11384 rows x 2 columns]"
      ]
     },
     "execution_count": 75,
     "metadata": {},
     "output_type": "execute_result"
    }
   ],
   "source": [
    "data_df_1['filter_address'] = data_df_1['input_address'].copy()\n",
    "data_df_1"
   ]
  },
  {
   "cell_type": "code",
   "execution_count": 4,
   "id": "a919caa2-4ffc-485b-ad08-0c59b6116295",
   "metadata": {},
   "outputs": [
    {
     "data": {
      "text/plain": [
       "1304095"
      ]
     },
     "execution_count": 4,
     "metadata": {},
     "output_type": "execute_result"
    }
   ],
   "source": [
    "len(list_add)"
   ]
  },
  {
   "cell_type": "code",
   "execution_count": 5,
   "id": "1d4eec4a-45f4-476c-9624-39894dd9da9c",
   "metadata": {},
   "outputs": [
    {
     "data": {
      "text/plain": [
       "{'company_name': 'CÔNG TY TNHH VẬT LIỆU XÂY DỰNG VÀ THI CÔNG CẦU ĐƯỜNG 89',\n",
       " 'meta_data': 'Mã số thuế: 1402192663 - Đại diện pháp luật: Nguyễn Văn Trang; Đỗ Văn Duy',\n",
       " 'address': 'Địa chỉ: Thửa đất số 11, Tờ bản đồ số 39, Ấp Hoàng Việt, Xã Tân Phước, Huyện Tân Hồng, Tỉnh Đồng Tháp',\n",
       " 'administrative_units': [{'org_prefix': 'bản đồ số',\n",
       "   'prefix': 'Bản đồ',\n",
       "   'level': 'Bản đồ',\n",
       "   'name': '39'},\n",
       "  {'org_prefix': 'Ấp', 'prefix': 'Ấp', 'level': 'Ấp', 'name': 'Hoàng Việt'},\n",
       "  {'org_prefix': 'Xã', 'prefix': 'Xã', 'level': 'Xã', 'name': 'Tân Phước'},\n",
       "  {'org_prefix': 'Huyện',\n",
       "   'prefix': 'Huyện',\n",
       "   'level': 'Huyện',\n",
       "   'name': 'Tân Hồng'},\n",
       "  {'org_prefix': 'Tỉnh',\n",
       "   'prefix': 'Thành phố',\n",
       "   'level': 'Tỉnh',\n",
       "   'name': 'Đồng Tháp'}]}"
      ]
     },
     "execution_count": 5,
     "metadata": {},
     "output_type": "execute_result"
    }
   ],
   "source": [
    "list_add[0]"
   ]
  },
  {
   "cell_type": "code",
   "execution_count": 6,
   "id": "2bb59ddb-a13e-4941-ad5a-9bbe99c8957b",
   "metadata": {},
   "outputs": [
    {
     "data": {
      "text/plain": [
       "'Thửa đất số 11/2, Tờ bản đồ số 39, Ấp Hoàng Việt, Xã Tân Phước, Huyện Tân Hồng, Tỉnh Đồng Tháp'"
      ]
     },
     "execution_count": 6,
     "metadata": {},
     "output_type": "execute_result"
    }
   ],
   "source": [
    "text = 'Địa chỉ: Thửa đất số 11/2, Tờ bản đồ số 39, Ấp Hoàng Việt, Xã Tân Phước, Huyện Tân Hồng, Tỉnh Đồng Tháp'\n",
    "def filter_address(text):\n",
    "    # Use regex to extract text after \"Địa chỉ:\"\n",
    "    match = re.search(r'Địa chỉ:\\s*(.*)', text)\n",
    "\n",
    "    if match:\n",
    "        address_info = match.group(1)\n",
    "    else:\n",
    "        return ''\n",
    "    return address_info\n",
    "address_info = filter_address(text)\n",
    "', '.join([a.strip() for a in address_info.split(',')])"
   ]
  },
  {
   "cell_type": "code",
   "execution_count": 15,
   "id": "a964e846-40f5-4140-b5f3-09491dd8435d",
   "metadata": {},
   "outputs": [],
   "source": [
    "import random\n",
    "SEED_VALUE = 42\n",
    "random.seed(SEED_VALUE)"
   ]
  },
  {
   "cell_type": "code",
   "execution_count": null,
   "id": "f1d4b397-26f9-4d07-a32a-a568cf140e02",
   "metadata": {},
   "outputs": [
    {
     "name": "stderr",
     "output_type": "stream",
     "text": [
      " 12%|███▋                            | 150846/1304095 [21:24<5:50:47, 54.79it/s]"
     ]
    }
   ],
   "source": [
    "def create_df(list_add):\n",
    "    address_df = pd.DataFrame()\n",
    "    for add in tqdm(list_add):\n",
    "        try:\n",
    "            std_address = []\n",
    "            for std_a in add['administrative_units']:\n",
    "                if std_a.get('level', '') in ['Đường/Phố', 'Đường','Phường', 'Xã', 'Huyện', 'Thành phố', 'Tỉnh']:\n",
    "                    std_address.append(std_a.get('org_prefix', '') + ' ' + std_a.get('name', ''))\n",
    "            std_address = ', '.join(std_address)\n",
    "            add_row = pd.DataFrame({'input_address': [filter_address(add['address'])], 'filter_address': [std_address]})\n",
    "            address_df = pd.concat([address_df, add_row], ignore_index=True)\n",
    "            \n",
    "            list_std_address = [a.strip() for a in std_address.split(',')]\n",
    "            if len(list_std_address) <= 1:\n",
    "                continue\n",
    "            ## coin choose\n",
    "            coin_result = random.choice([0, 1])\n",
    "            # Check the result\n",
    "            if coin_result == 1:\n",
    "                continue\n",
    "                \n",
    "            idx = random.randint(1, len(list_std_address) - 1)\n",
    "            input_address = list_std_address[idx:]\n",
    "            if len(input_address) <= 0:\n",
    "                continue\n",
    "            add_row = pd.DataFrame({'input_address': [', '.join(input_address).strip(', ')], 'filter_address': [', '.join(input_address).strip(', ')]})\n",
    "            address_df = pd.concat([address_df, add_row], ignore_index=True)\n",
    "        except Exception as e:\n",
    "            print(e)\n",
    "            break\n",
    "    return address_df\n",
    "data_df = create_df(list_add)"
   ]
  },
  {
   "cell_type": "code",
   "execution_count": 31,
   "id": "08f2c539-fa95-4c7b-8464-733aa86b596f",
   "metadata": {},
   "outputs": [
    {
     "data": {
      "text/html": [
       "<div>\n",
       "<style scoped>\n",
       "    .dataframe tbody tr th:only-of-type {\n",
       "        vertical-align: middle;\n",
       "    }\n",
       "\n",
       "    .dataframe tbody tr th {\n",
       "        vertical-align: top;\n",
       "    }\n",
       "\n",
       "    .dataframe thead th {\n",
       "        text-align: right;\n",
       "    }\n",
       "</style>\n",
       "<table border=\"1\" class=\"dataframe\">\n",
       "  <thead>\n",
       "    <tr style=\"text-align: right;\">\n",
       "      <th></th>\n",
       "      <th>input_address</th>\n",
       "      <th>filter_address</th>\n",
       "    </tr>\n",
       "  </thead>\n",
       "  <tbody>\n",
       "    <tr>\n",
       "      <th>0</th>\n",
       "      <td>Thửa đất số 11, Tờ bản đồ số 39, Ấp Hoàng Việt...</td>\n",
       "      <td>Xã Tân Phước, Huyện Tân Hồng, Tỉnh Đồng Tháp</td>\n",
       "    </tr>\n",
       "    <tr>\n",
       "      <th>1</th>\n",
       "      <td>Huyện Tân Hồng, Tỉnh Đồng Tháp</td>\n",
       "      <td>Huyện Tân Hồng, Tỉnh Đồng Tháp</td>\n",
       "    </tr>\n",
       "    <tr>\n",
       "      <th>2</th>\n",
       "      <td>Số 27, Đường Thiên Hộ Dương, Khóm 3, Phường An...</td>\n",
       "      <td>Đường Thiên Hộ Dương, Phường An Thạnh, Thành p...</td>\n",
       "    </tr>\n",
       "    <tr>\n",
       "      <th>3</th>\n",
       "      <td>Phường An Thạnh, Thành phố Hồng Ngự, Tỉnh Đồng...</td>\n",
       "      <td>Phường An Thạnh, Thành phố Hồng Ngự, Tỉnh Đồng...</td>\n",
       "    </tr>\n",
       "    <tr>\n",
       "      <th>4</th>\n",
       "      <td>Tổ 20, Khóm An Lợi, Phường An Bình A, Thành ph...</td>\n",
       "      <td>Phường An Bình A, Thành phố Hồng Ngự, Tỉnh Đồn...</td>\n",
       "    </tr>\n",
       "    <tr>\n",
       "      <th>...</th>\n",
       "      <td>...</td>\n",
       "      <td>...</td>\n",
       "    </tr>\n",
       "    <tr>\n",
       "      <th>1955980</th>\n",
       "      <td>Số 438, đường Nguyễn Trãi, Xã Nghi Phú, Thành ...</td>\n",
       "      <td>đường Nguyễn Trãi, Xã Nghi Phú, Thành phố Vinh...</td>\n",
       "    </tr>\n",
       "    <tr>\n",
       "      <th>1955981</th>\n",
       "      <td>Nhà ông Trần Quang Tùng, tổ 3, Khối Tây Hồ 1, ...</td>\n",
       "      <td>Phường Quang Tiến, Thị xã Thái Hòa,  Nghệ An</td>\n",
       "    </tr>\n",
       "    <tr>\n",
       "      <th>1955982</th>\n",
       "      <td>Nghệ An</td>\n",
       "      <td>Nghệ An</td>\n",
       "    </tr>\n",
       "    <tr>\n",
       "      <th>1955983</th>\n",
       "      <td>Số 179/5, đường Hà Huy Tập, Phường Hà Huy Tập,...</td>\n",
       "      <td>đường Hà Huy Tập, Phường Hà Huy Tập, Thành phố...</td>\n",
       "    </tr>\n",
       "    <tr>\n",
       "      <th>1955984</th>\n",
       "      <td>Phường Hà Huy Tập, Thành phố Vinh, Nghệ An</td>\n",
       "      <td>Phường Hà Huy Tập, Thành phố Vinh, Nghệ An</td>\n",
       "    </tr>\n",
       "  </tbody>\n",
       "</table>\n",
       "<p>1955985 rows × 2 columns</p>\n",
       "</div>"
      ],
      "text/plain": [
       "                                             input_address  \\\n",
       "0        Thửa đất số 11, Tờ bản đồ số 39, Ấp Hoàng Việt...   \n",
       "1                           Huyện Tân Hồng, Tỉnh Đồng Tháp   \n",
       "2        Số 27, Đường Thiên Hộ Dương, Khóm 3, Phường An...   \n",
       "3        Phường An Thạnh, Thành phố Hồng Ngự, Tỉnh Đồng...   \n",
       "4        Tổ 20, Khóm An Lợi, Phường An Bình A, Thành ph...   \n",
       "...                                                    ...   \n",
       "1955980  Số 438, đường Nguyễn Trãi, Xã Nghi Phú, Thành ...   \n",
       "1955981  Nhà ông Trần Quang Tùng, tổ 3, Khối Tây Hồ 1, ...   \n",
       "1955982                                            Nghệ An   \n",
       "1955983  Số 179/5, đường Hà Huy Tập, Phường Hà Huy Tập,...   \n",
       "1955984         Phường Hà Huy Tập, Thành phố Vinh, Nghệ An   \n",
       "\n",
       "                                            filter_address  \n",
       "0             Xã Tân Phước, Huyện Tân Hồng, Tỉnh Đồng Tháp  \n",
       "1                           Huyện Tân Hồng, Tỉnh Đồng Tháp  \n",
       "2        Đường Thiên Hộ Dương, Phường An Thạnh, Thành p...  \n",
       "3        Phường An Thạnh, Thành phố Hồng Ngự, Tỉnh Đồng...  \n",
       "4        Phường An Bình A, Thành phố Hồng Ngự, Tỉnh Đồn...  \n",
       "...                                                    ...  \n",
       "1955980  đường Nguyễn Trãi, Xã Nghi Phú, Thành phố Vinh...  \n",
       "1955981       Phường Quang Tiến, Thị xã Thái Hòa,  Nghệ An  \n",
       "1955982                                            Nghệ An  \n",
       "1955983  đường Hà Huy Tập, Phường Hà Huy Tập, Thành phố...  \n",
       "1955984         Phường Hà Huy Tập, Thành phố Vinh, Nghệ An  \n",
       "\n",
       "[1955985 rows x 2 columns]"
      ]
     },
     "execution_count": 31,
     "metadata": {},
     "output_type": "execute_result"
    }
   ],
   "source": [
    "data_df"
   ]
  },
  {
   "cell_type": "code",
   "execution_count": 39,
   "id": "51b5a4c1-0d02-4d74-b67e-882412292d9e",
   "metadata": {},
   "outputs": [],
   "source": [
    "data_df.to_csv('./data/address_raw_data_1.csv', index=False)"
   ]
  },
  {
   "cell_type": "code",
   "execution_count": 80,
   "id": "b9be4e62-0889-4dc0-8705-3c77efa66545",
   "metadata": {},
   "outputs": [
    {
     "data": {
      "text/html": [
       "<div>\n",
       "<style scoped>\n",
       "    .dataframe tbody tr th:only-of-type {\n",
       "        vertical-align: middle;\n",
       "    }\n",
       "\n",
       "    .dataframe tbody tr th {\n",
       "        vertical-align: top;\n",
       "    }\n",
       "\n",
       "    .dataframe thead th {\n",
       "        text-align: right;\n",
       "    }\n",
       "</style>\n",
       "<table border=\"1\" class=\"dataframe\">\n",
       "  <thead>\n",
       "    <tr style=\"text-align: right;\">\n",
       "      <th></th>\n",
       "      <th>input_address</th>\n",
       "      <th>filter_address</th>\n",
       "      <th>mistake_address</th>\n",
       "    </tr>\n",
       "  </thead>\n",
       "  <tbody>\n",
       "    <tr>\n",
       "      <th>0</th>\n",
       "      <td>Thửa đất số 11, Tờ bản đồ số 39, Ấp Hoàng Việt...</td>\n",
       "      <td>Xã Tân Phước, Huyện Tân Hồng, Tỉnh Đồng Tháp</td>\n",
       "      <td>Thua dat so 11 To ban do so 39 Ap Hoang Viet X...</td>\n",
       "    </tr>\n",
       "    <tr>\n",
       "      <th>1</th>\n",
       "      <td>Huyện Tân Hồng, Tỉnh Đồng Tháp</td>\n",
       "      <td>Huyện Tân Hồng, Tỉnh Đồng Tháp</td>\n",
       "      <td>uện n Hồng, ỉnh Đồng Tháp</td>\n",
       "    </tr>\n",
       "    <tr>\n",
       "      <th>2</th>\n",
       "      <td>Số 27, Đường Thiên Hộ Dương, Khóm 3, Phường An...</td>\n",
       "      <td>Đường Thiên Hộ Dương, Phường An Thạnh, Thành p...</td>\n",
       "      <td>So 27 Duong Thien Ho Duong Khom 3 Phuong An Th...</td>\n",
       "    </tr>\n",
       "    <tr>\n",
       "      <th>3</th>\n",
       "      <td>Phường An Thạnh, Thành phố Hồng Ngự, Tỉnh Đồng...</td>\n",
       "      <td>Phường An Thạnh, Thành phố Hồng Ngự, Tỉnh Đồng...</td>\n",
       "      <td>hường An Thạn Tành phố Hồg Ngự Tỉh Đồng Tháp</td>\n",
       "    </tr>\n",
       "    <tr>\n",
       "      <th>4</th>\n",
       "      <td>Tổ 20, Khóm An Lợi, Phường An Bình A, Thành ph...</td>\n",
       "      <td>Phường An Bình A, Thành phố Hồng Ngự, Tỉnh Đồn...</td>\n",
       "      <td>Tổ 20, Khóm An Loi, Phường An Bình A, Thành ph...</td>\n",
       "    </tr>\n",
       "    <tr>\n",
       "      <th>...</th>\n",
       "      <td>...</td>\n",
       "      <td>...</td>\n",
       "      <td>...</td>\n",
       "    </tr>\n",
       "    <tr>\n",
       "      <th>1084036</th>\n",
       "      <td>TK1, Thị trấn Quy Đạt, Huyện Minh Hoá, Quảng Bình</td>\n",
       "      <td>Thị trấn Quy Đạt, Huyện Minh Hóa,  Quảng Bình</td>\n",
       "      <td>tk1 thị trấn quy đạt huyện minh hoá quảng bình</td>\n",
       "    </tr>\n",
       "    <tr>\n",
       "      <th>1084037</th>\n",
       "      <td>Lý Nam Đế, Phường Đồng Phú, Thành phố Đồng Hới...</td>\n",
       "      <td>Phường Đồng Phú, Thành phố Đồng Hới,  Quảng Bình</td>\n",
       "      <td>Ly Nam De Phường Đồng Phú Thành phố Đồng Hoi Q...</td>\n",
       "    </tr>\n",
       "    <tr>\n",
       "      <th>1084038</th>\n",
       "      <td>Số 438, đường Nguyễn Trãi, Xã Nghi Phú, Thành ...</td>\n",
       "      <td>đường Nguyễn Trãi, Xã Nghi Phú, Thành phố Vinh...</td>\n",
       "      <td>Số 438, đườn Nguyễn Trã, Xã Nhi Phú Thành phố ...</td>\n",
       "    </tr>\n",
       "    <tr>\n",
       "      <th>1084039</th>\n",
       "      <td>Nhà ông Trần Quang Tùng, tổ 3, Khối Tây Hồ 1, ...</td>\n",
       "      <td>Phường Quang Tiến, Thị xã Thái Hòa,  Nghệ An</td>\n",
       "      <td>Nhàông rần uang Tùng tổ 3 Khối Tây Hồ 1 Phường...</td>\n",
       "    </tr>\n",
       "    <tr>\n",
       "      <th>1084040</th>\n",
       "      <td>Số 179/5, đường Hà Huy Tập, Phường Hà Huy Tập,...</td>\n",
       "      <td>đường Hà Huy Tập, Phường Hà Huy Tập, Thành phố...</td>\n",
       "      <td>So 179/5, đường Hà Huy Tap, Phường Ha Huy Tập,...</td>\n",
       "    </tr>\n",
       "  </tbody>\n",
       "</table>\n",
       "<p>1084041 rows × 3 columns</p>\n",
       "</div>"
      ],
      "text/plain": [
       "                                             input_address  \\\n",
       "0        Thửa đất số 11, Tờ bản đồ số 39, Ấp Hoàng Việt...   \n",
       "1                           Huyện Tân Hồng, Tỉnh Đồng Tháp   \n",
       "2        Số 27, Đường Thiên Hộ Dương, Khóm 3, Phường An...   \n",
       "3        Phường An Thạnh, Thành phố Hồng Ngự, Tỉnh Đồng...   \n",
       "4        Tổ 20, Khóm An Lợi, Phường An Bình A, Thành ph...   \n",
       "...                                                    ...   \n",
       "1084036  TK1, Thị trấn Quy Đạt, Huyện Minh Hoá, Quảng Bình   \n",
       "1084037  Lý Nam Đế, Phường Đồng Phú, Thành phố Đồng Hới...   \n",
       "1084038  Số 438, đường Nguyễn Trãi, Xã Nghi Phú, Thành ...   \n",
       "1084039  Nhà ông Trần Quang Tùng, tổ 3, Khối Tây Hồ 1, ...   \n",
       "1084040  Số 179/5, đường Hà Huy Tập, Phường Hà Huy Tập,...   \n",
       "\n",
       "                                            filter_address  \\\n",
       "0             Xã Tân Phước, Huyện Tân Hồng, Tỉnh Đồng Tháp   \n",
       "1                           Huyện Tân Hồng, Tỉnh Đồng Tháp   \n",
       "2        Đường Thiên Hộ Dương, Phường An Thạnh, Thành p...   \n",
       "3        Phường An Thạnh, Thành phố Hồng Ngự, Tỉnh Đồng...   \n",
       "4        Phường An Bình A, Thành phố Hồng Ngự, Tỉnh Đồn...   \n",
       "...                                                    ...   \n",
       "1084036      Thị trấn Quy Đạt, Huyện Minh Hóa,  Quảng Bình   \n",
       "1084037   Phường Đồng Phú, Thành phố Đồng Hới,  Quảng Bình   \n",
       "1084038  đường Nguyễn Trãi, Xã Nghi Phú, Thành phố Vinh...   \n",
       "1084039       Phường Quang Tiến, Thị xã Thái Hòa,  Nghệ An   \n",
       "1084040  đường Hà Huy Tập, Phường Hà Huy Tập, Thành phố...   \n",
       "\n",
       "                                           mistake_address  \n",
       "0        Thua dat so 11 To ban do so 39 Ap Hoang Viet X...  \n",
       "1                                uện n Hồng, ỉnh Đồng Tháp  \n",
       "2        So 27 Duong Thien Ho Duong Khom 3 Phuong An Th...  \n",
       "3             hường An Thạn Tành phố Hồg Ngự Tỉh Đồng Tháp  \n",
       "4        Tổ 20, Khóm An Loi, Phường An Bình A, Thành ph...  \n",
       "...                                                    ...  \n",
       "1084036     tk1 thị trấn quy đạt huyện minh hoá quảng bình  \n",
       "1084037  Ly Nam De Phường Đồng Phú Thành phố Đồng Hoi Q...  \n",
       "1084038  Số 438, đườn Nguyễn Trã, Xã Nhi Phú Thành phố ...  \n",
       "1084039  Nhàông rần uang Tùng tổ 3 Khối Tây Hồ 1 Phường...  \n",
       "1084040  So 179/5, đường Hà Huy Tap, Phường Ha Huy Tập,...  \n",
       "\n",
       "[1084041 rows x 3 columns]"
      ]
     },
     "execution_count": 80,
     "metadata": {},
     "output_type": "execute_result"
    }
   ],
   "source": [
    "data_df"
   ]
  },
  {
   "cell_type": "code",
   "execution_count": 58,
   "id": "c8d16367-c3e9-42f9-a455-a74a029d3d73",
   "metadata": {},
   "outputs": [],
   "source": [
    "import random\n",
    "\n",
    "random_seed = 42\n",
    "random.seed(random_seed)\n",
    "class SynthesizeData(object):\n",
    "    def __init__(self):\n",
    "        self.string_telex_tuple_map = {\n",
    "        \"á\": (\"a\", \"\", \"s\"), \"à\": (\"a\", \"\", \"f\"), \"ả\": (\"a\", \"\", \"r\"), \"ã\": (\"a\", \"\", \"x\"), \"ạ\": (\"a\", \"\", \"j\"), \n",
    "        \"ă\": (\"a\", \"w\", \"\"), \"ắ\": (\"a\", \"w\", \"s\"), \"ằ\": (\"a\", \"w\", \"f\"), \"ẳ\": (\"a\", \"w\", \"r\"), \"ẵ\": (\"a\", \"w\", \"x\"), \"ặ\": (\"a\", \"w\", \"j\"),\n",
    "        \"â\": (\"a\", \"a\", \"\"), \"ấ\": (\"a\", \"a\", \"s\"), \"ầ\": (\"a\", \"a\", \"f\"), \"ẩ\": (\"a\", \"a\", \"r\"), \"ẫ\": (\"a\", \"a\", \"x\"), \"ậ\": (\"a\", \"a\", \"j\"),\n",
    "        \"é\": (\"e\", \"\", \"s\"), \"è\": (\"e\", \"\", \"f\"), \"ẻ\": (\"e\", \"\", \"r\"), \"ẽ\": (\"e\", \"\", \"x\"), \"ẹ\": (\"e\", \"\", \"j\"),\n",
    "        \"ê\": (\"e\", \"e\", \"\"), \"ế\": (\"e\", \"e\", \"s\"), \"ề\": (\"e\", \"e\", \"f\"), \"ể\": (\"e\", \"e\", \"r\"), \"ễ\": (\"e\", \"e\", \"x\"), \"ệ\": (\"e\", \"e\", \"j\"),\n",
    "        \"í\": (\"i\", \"\", \"s\"), \"ì\": (\"i\", \"\", \"f\"), \"ỉ\": (\"i\", \"\", \"r\"), \"ĩ\": (\"i\", \"\", \"x\"), \"ị\": (\"i\", \"\", \"j\"),\n",
    "        \"ó\": (\"o\", \"\", \"s\"), \"ò\": (\"o\", \"\", \"f\"), \"ỏ\": (\"o\", \"\", \"r\"), \"õ\": (\"o\", \"\", \"x\"), \"ọ\": (\"o\", \"\", \"j\"),\n",
    "        \"ô\": (\"o\", \"o\", \"\"), \"ố\": (\"o\", \"o\", \"s\"), \"ồ\": (\"o\", \"o\", \"f\"), \"ổ\": (\"o\", \"o\", \"r\"), \"ỗ\": (\"o\", \"o\", \"x\"), \"ộ\": (\"o\", \"o\", \"j\"),\n",
    "        \"ơ\": (\"o\", \"w\", \"\"), \"ớ\": (\"o\", \"w\", \"s\"), \"ờ\": (\"o\", \"w\", \"f\"), \"ở\": (\"o\", \"w\", \"r\"), \"ỡ\": (\"o\", \"w\", \"x\"), \"ợ\": (\"o\", \"w\", \"j\"),\n",
    "        \"ú\": (\"u\", \"\", \"s\"), \"ù\": (\"u\", \"\", \"f\"), \"ủ\": (\"u\", \"\", \"r\"), \"ũ\": (\"u\", \"\", \"x\"), \"ụ\": (\"u\", \"\", \"j\"),\n",
    "        \"ư\": (\"u\", \"w\", \"\"), \"ứ\": (\"u\", \"w\", \"s\"), \"ừ\": (\"u\", \"w\", \"f\"), \"ử\": (\"u\", \"w\", \"r\"), \"ữ\": (\"u\", \"w\", \"x\"), \"ự\": (\"u\", \"w\", \"j\"),\n",
    "        \"ý\": (\"y\", \"\", \"s\"), \"ỳ\": (\"y\", \"\", \"f\"), \"ỷ\": (\"y\", \"\", \"r\"), \"ỹ\": (\"y\", \"\", \"x\"), \"ỵ\": (\"y\", \"\", \"j\"),\n",
    "        \"đ\": (\"d\", \"d\", \"\")\n",
    "        }\n",
    "        self.string_telex_map = {}\n",
    "        self.telex_string_map = {}\n",
    "        for s, tup in self.string_telex_tuple_map.items():\n",
    "            t = \"\".join(tup)\n",
    "            self.string_telex_map[s] = t\n",
    "            self.telex_string_map[t] = s\n",
    "        \n",
    "        self.char_has_diacritic_map = {c: \"\" for c in \"ăắằẳẵặâấầẩẫậêếềểễệôốồổỗộơớờởỡợưứừửữựđ\"}\n",
    "            \n",
    "    def remove_accent(self, inp_s):\n",
    "        accent_lst = []\n",
    "        out_s = \"\"\n",
    "        for c in inp_s:\n",
    "            lower_c = c.lower()\n",
    "            if lower_c not in self.string_telex_tuple_map:\n",
    "                out_s += c\n",
    "            else:\n",
    "                telex_tuple = self.string_telex_tuple_map[lower_c]\n",
    "                if telex_tuple[2] != \"\":\n",
    "                    accent_lst.append(telex_tuple[2])\n",
    "                new_telex_tuple = list(telex_tuple)\n",
    "                new_telex_tuple[2] = \"\"    # remove accent\n",
    "                new_telex = \"\".join(new_telex_tuple)\n",
    "                if c.isupper():\n",
    "                    out_s += self.telex_string_map.get(new_telex, telex_tuple[0]).upper()\n",
    "                else:\n",
    "                    out_s += self.telex_string_map.get(new_telex, telex_tuple[0])\n",
    "\n",
    "        return out_s, accent_lst\n",
    "\n",
    "    def remove_diacritic(self, inp_s, remove_type):\n",
    "\n",
    "        if remove_type == \"one_char\":\n",
    "            diacritic_char_ids = []\n",
    "            for char_idx, c in enumerate(inp_s.lower()):\n",
    "                if c in self.char_has_diacritic_map:\n",
    "                    diacritic_char_ids.append(char_idx)\n",
    "            if len(diacritic_char_ids) == 0:\n",
    "                return inp_s, []\n",
    "\n",
    "            sel_replace_char_idx = random.choice(diacritic_char_ids)\n",
    "\n",
    "        diacritic_lst = []\n",
    "        out_s = \"\"\n",
    "        for char_idx, c in enumerate(inp_s):\n",
    "            lower_c = c.lower()\n",
    "            if lower_c not in self.string_telex_tuple_map:\n",
    "                out_s += c\n",
    "            else:\n",
    "                telex_tuple = self.string_telex_tuple_map[lower_c]\n",
    "                diacritic = None\n",
    "                if telex_tuple[1] != \"\":\n",
    "                    if telex_tuple[0] == telex_tuple[1]:\n",
    "                        diacritic = \"duplicate\"\n",
    "                        # diacritic_lst.append(\"duplicate\")\n",
    "                    elif telex_tuple[1] == \"w\":\n",
    "                        diacritic = \"w\"\n",
    "                        # diacritic_lst.append(\"w\")\n",
    "                new_telex_tuple = list(telex_tuple)\n",
    "\n",
    "                if diacritic is not None:\n",
    "                    if remove_type == \"all\":\n",
    "                        new_telex_tuple[1] = \"\"    # remove diacritic\n",
    "                        diacritic_lst.append(diacritic)\n",
    "                    else:\n",
    "                        if char_idx == sel_replace_char_idx:\n",
    "                            new_telex_tuple[1] = \"\"    # remove diacritic\n",
    "                            diacritic_lst.append(diacritic)\n",
    "\n",
    "                new_telex = \"\".join(new_telex_tuple)\n",
    "\n",
    "                if c.isupper():\n",
    "                    out_s += self.telex_string_map.get(new_telex, telex_tuple[0]).upper()\n",
    "                else:\n",
    "                    out_s += self.telex_string_map.get(new_telex, telex_tuple[0])\n",
    "\n",
    "        return out_s, diacritic_lst\n",
    "    \n",
    "    def remove_diacritic_accent(self, inp_s):\n",
    "        na_syl, _ = self.remove_accent(inp_s)\n",
    "        ndna_syl, _ = self.remove_diacritic(na_syl, remove_type=\"all\")\n",
    "\n",
    "        return ndna_syl\n",
    "        \n",
    "    def add_random_spaces(self, input_string, num_spaces):\n",
    "        \"\"\"\n",
    "        Add a specified number of random spaces into the input string.\n",
    "    \n",
    "        Parameters:\n",
    "        - input_string (str): The input string.\n",
    "        - num_spaces (int): The number of spaces to add.\n",
    "    \n",
    "        Returns:\n",
    "        - str: The modified string with added spaces.\n",
    "        \"\"\"\n",
    "        if num_spaces < 0:\n",
    "            raise ValueError(\"Number of spaces should be non-negative\")\n",
    "    \n",
    "        # Choose random positions to insert spaces\n",
    "        positions = random.sample(range(len(input_string) + num_spaces), num_spaces)\n",
    "    \n",
    "        # Insert spaces at the chosen positions\n",
    "        result = list(input_string)\n",
    "        for pos in positions:\n",
    "            result.insert(pos, ' ')\n",
    "    \n",
    "        return ''.join(result)\n",
    "    \n",
    "    def randomly_delete_chars(self, input_string, n):\n",
    "        # Convert the string to a list of characters\n",
    "        chars = list(input_string)\n",
    "\n",
    "        if len(chars) - n < 5:\n",
    "            n = 1\n",
    "        # Randomly choose n indices to delete\n",
    "        indices_to_delete = random.sample(range(len(chars)), n)\n",
    "\n",
    "        # Delete characters at chosen indices\n",
    "        for index in sorted(indices_to_delete, reverse=True):\n",
    "            if not chars[index].isdigit():\n",
    "                del chars[index]\n",
    "\n",
    "        # Convert the list back to a string\n",
    "        result_string = ''.join(chars)\n",
    "\n",
    "        return result_string\n",
    "    \n",
    "    def remove_punctuation(self, input_string):\n",
    "        # Define a regex pattern to match punctuation\n",
    "        punctuation_pattern = r'[^\\w\\s\\/]'\n",
    "\n",
    "        # Use re.sub to replace punctuation with an empty string\n",
    "        result = re.sub(punctuation_pattern, '', input_string)\n",
    "\n",
    "        return result \n",
    "    \n",
    "    def create_wrong_word(self, input_string):\n",
    "        mode_list = ['remove_random_letters', 'remove_diacritics', 'remove_punctuation', 'add_space', 'remove_diacritics_all']\n",
    "        mode = random.choice(mode_list)\n",
    "        if mode == 'remove_random_letters':\n",
    "            remove_list = ['remove punc', 'not remove punc']\n",
    "            remove = random.choice(remove_list)\n",
    "            n_charater = random.choice(range(5,6))\n",
    "            if remove == 'remove punc':\n",
    "                out_string = self.randomly_delete_chars(self.remove_punctuation(input_string), n_charater)\n",
    "                return out_string\n",
    "            else:\n",
    "                out_string = self.randomly_delete_chars(input_string, n_charater)\n",
    "                return out_string\n",
    "        elif mode == 'remove_diacritics':\n",
    "            remove_list = ['remove punc', 'not remove punc']\n",
    "            remove = random.choice(remove_list)\n",
    "            if remove == 'remove punc':\n",
    "                input_string = self.remove_punctuation(input_string)\n",
    "            list_words = input_string.split()\n",
    "            removed_words = 0\n",
    "            while removed_words < 5:\n",
    "                n_charater = random.randint(0, len(list_words) - 1)\n",
    "                list_words[n_charater] = self.remove_diacritic_accent(list_words[n_charater])\n",
    "                removed_words += 1\n",
    "            out_string = ' '.join(list_words)\n",
    "            return out_string\n",
    "        elif mode == 'add_space':\n",
    "            out_string = self.add_random_spaces(input_string.lower(), 5)\n",
    "            return out_string\n",
    "        elif mode == 'remove_diacritics_all':\n",
    "            out_string = self.remove_diacritic_accent(self.remove_punctuation(input_string))\n",
    "            return out_string\n",
    "        else:\n",
    "            out_string = self.remove_punctuation(input_string).lower()\n",
    "            return out_string\n",
    "        return input_string"
   ]
  },
  {
   "cell_type": "code",
   "execution_count": 59,
   "id": "9cc60d62-da2d-4b62-8928-00e22b54de8b",
   "metadata": {},
   "outputs": [
    {
     "data": {
      "text/plain": [
       "'Thửa đất số 11/2 ờ bản đồ s 39 Ấp Hoàng Việt Xã Tân Phước Huyện Tân Hồng Tỉnh Đồng Táp'"
      ]
     },
     "execution_count": 59,
     "metadata": {},
     "output_type": "execute_result"
    }
   ],
   "source": [
    "data_set = SynthesizeData()\n",
    "data_set.create_wrong_word(address_info)"
   ]
  },
  {
   "cell_type": "code",
   "execution_count": 53,
   "id": "7c438da5-042d-4e78-8854-49acf43c606d",
   "metadata": {},
   "outputs": [],
   "source": [
    "data_df = data_df[data_df['input_address'] != ''].reset_index(drop=True)"
   ]
  },
  {
   "cell_type": "code",
   "execution_count": 38,
   "id": "70efc875-d4ee-48ec-b8e5-76da853438db",
   "metadata": {},
   "outputs": [],
   "source": [
    "data_df.drop_duplicates(subset=['input_address'], ignore_index=True, inplace=True)"
   ]
  },
  {
   "cell_type": "code",
   "execution_count": 60,
   "id": "e0026585-a262-4d30-9238-e326a64fdda7",
   "metadata": {},
   "outputs": [
    {
     "data": {
      "application/vnd.jupyter.widget-view+json": {
       "model_id": "7862369c18284eb199d7ff9cd9f1f5ee",
       "version_major": 2,
       "version_minor": 0
      },
      "text/plain": [
       "  0%|          | 0/1084041 [00:00<?, ?it/s]"
      ]
     },
     "metadata": {},
     "output_type": "display_data"
    }
   ],
   "source": [
    "data_df['mistake_address'] = data_df['input_address'].progress_apply(data_set.create_wrong_word) "
   ]
  },
  {
   "cell_type": "code",
   "execution_count": 76,
   "id": "0d28a9c2-f0b7-4875-ae30-5766749aa8a6",
   "metadata": {},
   "outputs": [
    {
     "data": {
      "application/vnd.jupyter.widget-view+json": {
       "model_id": "388036a2b8c94fc9aa0f68548e2d9312",
       "version_major": 2,
       "version_minor": 0
      },
      "text/plain": [
       "  0%|          | 0/11384 [00:00<?, ?it/s]"
      ]
     },
     "metadata": {},
     "output_type": "display_data"
    }
   ],
   "source": [
    "data_df_1['mistake_address'] = data_df_1['input_address'].progress_apply(data_set.create_wrong_word) "
   ]
  },
  {
   "cell_type": "code",
   "execution_count": 79,
   "id": "f12c3456-71a6-459c-8377-32adb53c8aa6",
   "metadata": {},
   "outputs": [],
   "source": [
    "data_df_1.to_csv('./data/address_data_meta_1.csv', index=False)"
   ]
  },
  {
   "cell_type": "code",
   "execution_count": 94,
   "id": "8506b594-87f5-4ae9-9dae-2655d90c38d5",
   "metadata": {},
   "outputs": [
    {
     "data": {
      "application/vnd.jupyter.widget-view+json": {
       "model_id": "8f1b501cccd8436ba795ad1641b68082",
       "version_major": 2,
       "version_minor": 0
      },
      "text/plain": [
       "  0%|          | 0/14 [00:00<?, ?it/s]"
      ]
     },
     "metadata": {},
     "output_type": "display_data"
    }
   ],
   "source": [
    "def create_t5_data(data_df):\n",
    "    filter_address = list(set(data_df['filter_address']))\n",
    "    for r_idx in tqdm(range(len(data_df))):\n",
    "        total_sample = random.randint(3,5)\n",
    "        candi_idx = random.randint(1,total_sample)\n",
    "        data_df.loc[r_idx,'label'] = f\"Candidate {candi_idx}\"\n",
    "        \n",
    "        context = ''\n",
    "        for idx in range(1, total_sample+1):\n",
    "            if idx != candi_idx:\n",
    "                while True:\n",
    "                    noise_candi_idx = random.randint(0, len(filter_address) - 1)\n",
    "                    if filter_address[noise_candi_idx] != data_df.loc[r_idx, 'filter_address']:\n",
    "                        break\n",
    "                context += 'Candidate {}: {}\\n'.format(idx, filter_address[noise_candi_idx])\n",
    "            else:\n",
    "                context += 'Candidate {}: {}\\n'.format(idx, data_df.loc[r_idx, 'mistake_address'])\n",
    "        data_df.loc[r_idx,'input_t5'] = context \n",
    "create_t5_data(data_df)"
   ]
  },
  {
   "cell_type": "code",
   "execution_count": 95,
   "id": "23ab43b6-5d47-4dde-83ea-7b673a83f3b8",
   "metadata": {},
   "outputs": [
    {
     "name": "stdout",
     "output_type": "stream",
     "text": [
      "Candidate 3\n",
      "Candidate 1: Phường An Thạnh, Thành phố Hồng Ngự, Tỉnh Đồng Tháp\n",
      "Candidate 2: Xã Tân Phước, Huyện Tân Hồng, Tỉnh Đồng Tháp\n",
      "Candidate 3: bản đồ số 39 ấp hoàng việt xã tân phước huyện tân hồng tỉnh đồng tháp \n",
      "Candidate 4: Đường Thiên Hộ Dương, Khóm 3, Phường An Thạnh, Thành phố Hồng Ngự, Tỉnh Đồng Tháp, \n",
      "Candidate 5: Phường An Thạnh, Thành phố Hồng Ngự, Tỉnh Đồng Tháp\n",
      "\n"
     ]
    }
   ],
   "source": [
    "idx = 0\n",
    "print(data_df.iloc[idx]['label'])\n",
    "print(data_df.iloc[idx]['input_t5'])"
   ]
  },
  {
   "cell_type": "code",
   "execution_count": null,
   "id": "f1faa284-652e-4278-a5df-edf645cb3d78",
   "metadata": {},
   "outputs": [],
   "source": []
  }
 ],
 "metadata": {
  "kernelspec": {
   "display_name": "chatgpt-env",
   "language": "python",
   "name": "chatgpt"
  },
  "language_info": {
   "codemirror_mode": {
    "name": "ipython",
    "version": 3
   },
   "file_extension": ".py",
   "mimetype": "text/x-python",
   "name": "python",
   "nbconvert_exporter": "python",
   "pygments_lexer": "ipython3",
   "version": "3.8.18"
  }
 },
 "nbformat": 4,
 "nbformat_minor": 5
}
